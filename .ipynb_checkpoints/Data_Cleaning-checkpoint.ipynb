{
 "cells": [
  {
   "cell_type": "code",
   "execution_count": 1,
   "id": "c5cfe3cd-2f42-4170-b271-a30ab2c497b1",
   "metadata": {},
   "outputs": [],
   "source": [
    "import pandas as pd\n",
    "import os"
   ]
  },
  {
   "cell_type": "code",
   "execution_count": 2,
   "id": "9027ea6b-c53a-4bad-9edb-d6ea26c1d290",
   "metadata": {},
   "outputs": [],
   "source": [
    "directory_path = \"Cleaned data\"\n",
    "os.makedirs(directory_path, exist_ok=True)"
   ]
  },
  {
   "cell_type": "code",
   "execution_count": 3,
   "id": "055f0b25-8204-429c-8919-cfb52a0fd6c9",
   "metadata": {},
   "outputs": [],
   "source": [
    "# Reading target data\n",
    "target = pd.read_csv(\"CSUSHPINSA.csv\")"
   ]
  },
  {
   "cell_type": "code",
   "execution_count": 4,
   "id": "00d7ede2-39ff-47b5-b23c-e576cd9f9ad8",
   "metadata": {},
   "outputs": [
    {
     "data": {
      "text/html": [
       "<div>\n",
       "<style scoped>\n",
       "    .dataframe tbody tr th:only-of-type {\n",
       "        vertical-align: middle;\n",
       "    }\n",
       "\n",
       "    .dataframe tbody tr th {\n",
       "        vertical-align: top;\n",
       "    }\n",
       "\n",
       "    .dataframe thead th {\n",
       "        text-align: right;\n",
       "    }\n",
       "</style>\n",
       "<table border=\"1\" class=\"dataframe\">\n",
       "  <thead>\n",
       "    <tr style=\"text-align: right;\">\n",
       "      <th></th>\n",
       "      <th>DATE</th>\n",
       "      <th>CSUSHPINSA</th>\n",
       "    </tr>\n",
       "  </thead>\n",
       "  <tbody>\n",
       "    <tr>\n",
       "      <th>0</th>\n",
       "      <td>2003-08-01</td>\n",
       "      <td>135.966</td>\n",
       "    </tr>\n",
       "    <tr>\n",
       "      <th>1</th>\n",
       "      <td>2003-09-01</td>\n",
       "      <td>137.076</td>\n",
       "    </tr>\n",
       "    <tr>\n",
       "      <th>2</th>\n",
       "      <td>2003-10-01</td>\n",
       "      <td>137.975</td>\n",
       "    </tr>\n",
       "    <tr>\n",
       "      <th>3</th>\n",
       "      <td>2003-11-01</td>\n",
       "      <td>138.765</td>\n",
       "    </tr>\n",
       "    <tr>\n",
       "      <th>4</th>\n",
       "      <td>2003-12-01</td>\n",
       "      <td>139.627</td>\n",
       "    </tr>\n",
       "  </tbody>\n",
       "</table>\n",
       "</div>"
      ],
      "text/plain": [
       "         DATE  CSUSHPINSA\n",
       "0  2003-08-01     135.966\n",
       "1  2003-09-01     137.076\n",
       "2  2003-10-01     137.975\n",
       "3  2003-11-01     138.765\n",
       "4  2003-12-01     139.627"
      ]
     },
     "execution_count": 4,
     "metadata": {},
     "output_type": "execute_result"
    }
   ],
   "source": [
    "target.head()"
   ]
  },
  {
   "cell_type": "code",
   "execution_count": 5,
   "id": "a690db9a-32e9-49c3-8e69-762caa130b01",
   "metadata": {},
   "outputs": [],
   "source": [
    "target.set_index('DATE', inplace =True)\n",
    "target.rename(columns= {'CSUSHPINSA': 'target'}, inplace =True)\n",
    "target.index = pd.to_datetime(target.index)\n",
    "target = target[\"2003-08-01\":\"2023-08-01\"]"
   ]
  },
  {
   "cell_type": "code",
   "execution_count": 6,
   "id": "97c00794-b685-4fd8-9d32-be8f34e8ad2b",
   "metadata": {},
   "outputs": [
    {
     "data": {
      "text/plain": [
       "(241, 1)"
      ]
     },
     "execution_count": 6,
     "metadata": {},
     "output_type": "execute_result"
    }
   ],
   "source": [
    "target.shape"
   ]
  },
  {
   "cell_type": "code",
   "execution_count": 7,
   "id": "a56cd03d-0508-4400-826b-38587f7cbfc6",
   "metadata": {},
   "outputs": [],
   "source": [
    "target.to_csv(\"Cleaned data/target.csv\")"
   ]
  },
  {
   "cell_type": "code",
   "execution_count": 8,
   "id": "af0715b8-bc9b-4129-b39f-258d5cdfb00a",
   "metadata": {},
   "outputs": [],
   "source": [
    "population = pd.read_csv('POP.csv')"
   ]
  },
  {
   "cell_type": "code",
   "execution_count": 9,
   "id": "038bdb23-0838-4647-9e74-ad25fbe670c5",
   "metadata": {},
   "outputs": [
    {
     "data": {
      "text/html": [
       "<div>\n",
       "<style scoped>\n",
       "    .dataframe tbody tr th:only-of-type {\n",
       "        vertical-align: middle;\n",
       "    }\n",
       "\n",
       "    .dataframe tbody tr th {\n",
       "        vertical-align: top;\n",
       "    }\n",
       "\n",
       "    .dataframe thead th {\n",
       "        text-align: right;\n",
       "    }\n",
       "</style>\n",
       "<table border=\"1\" class=\"dataframe\">\n",
       "  <thead>\n",
       "    <tr style=\"text-align: right;\">\n",
       "      <th></th>\n",
       "      <th>DATE</th>\n",
       "      <th>POP</th>\n",
       "    </tr>\n",
       "  </thead>\n",
       "  <tbody>\n",
       "    <tr>\n",
       "      <th>0</th>\n",
       "      <td>2003-08-01</td>\n",
       "      <td>291072.0</td>\n",
       "    </tr>\n",
       "    <tr>\n",
       "      <th>1</th>\n",
       "      <td>2003-09-01</td>\n",
       "      <td>291321.0</td>\n",
       "    </tr>\n",
       "    <tr>\n",
       "      <th>2</th>\n",
       "      <td>2003-10-01</td>\n",
       "      <td>291574.0</td>\n",
       "    </tr>\n",
       "    <tr>\n",
       "      <th>3</th>\n",
       "      <td>2003-11-01</td>\n",
       "      <td>291807.0</td>\n",
       "    </tr>\n",
       "    <tr>\n",
       "      <th>4</th>\n",
       "      <td>2003-12-01</td>\n",
       "      <td>292008.0</td>\n",
       "    </tr>\n",
       "  </tbody>\n",
       "</table>\n",
       "</div>"
      ],
      "text/plain": [
       "         DATE       POP\n",
       "0  2003-08-01  291072.0\n",
       "1  2003-09-01  291321.0\n",
       "2  2003-10-01  291574.0\n",
       "3  2003-11-01  291807.0\n",
       "4  2003-12-01  292008.0"
      ]
     },
     "execution_count": 9,
     "metadata": {},
     "output_type": "execute_result"
    }
   ],
   "source": [
    "population.head()"
   ]
  },
  {
   "cell_type": "code",
   "execution_count": 10,
   "id": "7497e653-c055-4c8d-8f00-4632e3174bd2",
   "metadata": {},
   "outputs": [],
   "source": [
    "population.set_index('DATE', inplace =True)\n",
    "population.rename(columns= {'POPTHM': 'population'}, inplace =True)\n",
    "population.index = pd.to_datetime(population.index)\n",
    "population = population[\"2003-08-01\":\"2023-08-01\"]"
   ]
  },
  {
   "cell_type": "code",
   "execution_count": 11,
   "id": "2bd08138-44ff-44e2-b71f-a975b082b543",
   "metadata": {},
   "outputs": [
    {
     "data": {
      "text/plain": [
       "(241, 1)"
      ]
     },
     "execution_count": 11,
     "metadata": {},
     "output_type": "execute_result"
    }
   ],
   "source": [
    "population.shape"
   ]
  },
  {
   "cell_type": "code",
   "execution_count": 12,
   "id": "f1a029a6-2e0b-4a4e-960f-96b0a2ad01c0",
   "metadata": {},
   "outputs": [],
   "source": [
    "population.to_csv('Cleaned data/population.csv')"
   ]
  },
  {
   "cell_type": "code",
   "execution_count": 13,
   "id": "6af48cea-87bd-465e-b9e2-5437fc7f966a",
   "metadata": {},
   "outputs": [],
   "source": [
    "income = pd.read_csv('PI.csv')"
   ]
  },
  {
   "cell_type": "code",
   "execution_count": 14,
   "id": "7d3f5e78-6e1c-41f1-8718-3762dde74433",
   "metadata": {},
   "outputs": [
    {
     "data": {
      "text/html": [
       "<div>\n",
       "<style scoped>\n",
       "    .dataframe tbody tr th:only-of-type {\n",
       "        vertical-align: middle;\n",
       "    }\n",
       "\n",
       "    .dataframe tbody tr th {\n",
       "        vertical-align: top;\n",
       "    }\n",
       "\n",
       "    .dataframe thead th {\n",
       "        text-align: right;\n",
       "    }\n",
       "</style>\n",
       "<table border=\"1\" class=\"dataframe\">\n",
       "  <thead>\n",
       "    <tr style=\"text-align: right;\">\n",
       "      <th></th>\n",
       "      <th>DATE</th>\n",
       "      <th>PI</th>\n",
       "    </tr>\n",
       "  </thead>\n",
       "  <tbody>\n",
       "    <tr>\n",
       "      <th>0</th>\n",
       "      <td>2003-08-01</td>\n",
       "      <td>9538.8</td>\n",
       "    </tr>\n",
       "    <tr>\n",
       "      <th>1</th>\n",
       "      <td>2003-09-01</td>\n",
       "      <td>9582.5</td>\n",
       "    </tr>\n",
       "    <tr>\n",
       "      <th>2</th>\n",
       "      <td>2003-10-01</td>\n",
       "      <td>9620.4</td>\n",
       "    </tr>\n",
       "    <tr>\n",
       "      <th>3</th>\n",
       "      <td>2003-11-01</td>\n",
       "      <td>9688.2</td>\n",
       "    </tr>\n",
       "    <tr>\n",
       "      <th>4</th>\n",
       "      <td>2003-12-01</td>\n",
       "      <td>9713.2</td>\n",
       "    </tr>\n",
       "  </tbody>\n",
       "</table>\n",
       "</div>"
      ],
      "text/plain": [
       "         DATE      PI\n",
       "0  2003-08-01  9538.8\n",
       "1  2003-09-01  9582.5\n",
       "2  2003-10-01  9620.4\n",
       "3  2003-11-01  9688.2\n",
       "4  2003-12-01  9713.2"
      ]
     },
     "execution_count": 14,
     "metadata": {},
     "output_type": "execute_result"
    }
   ],
   "source": [
    "income.head()"
   ]
  },
  {
   "cell_type": "code",
   "execution_count": 15,
   "id": "4162522f-6fec-40f2-9976-4456a57ca0a4",
   "metadata": {},
   "outputs": [],
   "source": [
    "income.set_index('DATE', inplace =True)\n",
    "income.rename(columns= {'PI': 'income'}, inplace =True)\n",
    "income.index = pd.to_datetime(income.index)\n",
    "income = income[\"2003-08-01\":\"2023-08-01\"]"
   ]
  },
  {
   "cell_type": "code",
   "execution_count": 16,
   "id": "d5ae08be-4d85-405f-b854-e409953d7807",
   "metadata": {},
   "outputs": [
    {
     "data": {
      "text/plain": [
       "(241, 1)"
      ]
     },
     "execution_count": 16,
     "metadata": {},
     "output_type": "execute_result"
    }
   ],
   "source": [
    "income.shape"
   ]
  },
  {
   "cell_type": "code",
   "execution_count": 17,
   "id": "8d1f65ea-6b44-4faa-992e-812a677509b8",
   "metadata": {},
   "outputs": [],
   "source": [
    "income.to_csv(\"Cleaned data/income.csv\")"
   ]
  },
  {
   "cell_type": "code",
   "execution_count": 18,
   "id": "6c01ff76-7698-4821-b4e2-d3d5411acb19",
   "metadata": {},
   "outputs": [],
   "source": [
    "gdp = pd.read_csv(\"GDP.csv\")"
   ]
  },
  {
   "cell_type": "code",
   "execution_count": 19,
   "id": "961b42e5-5b72-4dd9-9e1c-9a06a4c16d47",
   "metadata": {},
   "outputs": [
    {
     "data": {
      "text/html": [
       "<div>\n",
       "<style scoped>\n",
       "    .dataframe tbody tr th:only-of-type {\n",
       "        vertical-align: middle;\n",
       "    }\n",
       "\n",
       "    .dataframe tbody tr th {\n",
       "        vertical-align: top;\n",
       "    }\n",
       "\n",
       "    .dataframe thead th {\n",
       "        text-align: right;\n",
       "    }\n",
       "</style>\n",
       "<table border=\"1\" class=\"dataframe\">\n",
       "  <thead>\n",
       "    <tr style=\"text-align: right;\">\n",
       "      <th></th>\n",
       "      <th>DATE</th>\n",
       "      <th>GDP</th>\n",
       "    </tr>\n",
       "  </thead>\n",
       "  <tbody>\n",
       "    <tr>\n",
       "      <th>0</th>\n",
       "      <td>2003-07-01</td>\n",
       "      <td>11566.669</td>\n",
       "    </tr>\n",
       "    <tr>\n",
       "      <th>1</th>\n",
       "      <td>2003-10-01</td>\n",
       "      <td>11772.234</td>\n",
       "    </tr>\n",
       "    <tr>\n",
       "      <th>2</th>\n",
       "      <td>2004-01-01</td>\n",
       "      <td>11923.447</td>\n",
       "    </tr>\n",
       "    <tr>\n",
       "      <th>3</th>\n",
       "      <td>2004-04-01</td>\n",
       "      <td>12112.815</td>\n",
       "    </tr>\n",
       "    <tr>\n",
       "      <th>4</th>\n",
       "      <td>2004-07-01</td>\n",
       "      <td>12305.307</td>\n",
       "    </tr>\n",
       "  </tbody>\n",
       "</table>\n",
       "</div>"
      ],
      "text/plain": [
       "         DATE        GDP\n",
       "0  2003-07-01  11566.669\n",
       "1  2003-10-01  11772.234\n",
       "2  2004-01-01  11923.447\n",
       "3  2004-04-01  12112.815\n",
       "4  2004-07-01  12305.307"
      ]
     },
     "execution_count": 19,
     "metadata": {},
     "output_type": "execute_result"
    }
   ],
   "source": [
    "gdp.head()"
   ]
  },
  {
   "cell_type": "code",
   "execution_count": 20,
   "id": "b3dd555a-71a4-48f0-8d44-745569cc4b7f",
   "metadata": {},
   "outputs": [],
   "source": [
    "gdp.set_index('DATE', inplace =True)\n",
    "gdp.index = pd.to_datetime(gdp.index)\n",
    "\n",
    "# Resampling\n",
    "gdp = gdp.resample('M').ffill()\n",
    "\n",
    "# # Set the day of the index to 1\n",
    "gdp.index = gdp.index.map(lambda x: x.replace(day=1))\n",
    "gdp = gdp[\"2003-07-01\":\"2023-07-01\"]"
   ]
  },
  {
   "cell_type": "code",
   "execution_count": 21,
   "id": "5b3e8c27-70c4-4425-8dc7-c2f090c33378",
   "metadata": {},
   "outputs": [
    {
     "data": {
      "text/plain": [
       "(241, 1)"
      ]
     },
     "execution_count": 21,
     "metadata": {},
     "output_type": "execute_result"
    }
   ],
   "source": [
    "gdp.shape"
   ]
  },
  {
   "cell_type": "code",
   "execution_count": 22,
   "id": "35847279-e546-4874-b5a6-80ed202d2f22",
   "metadata": {},
   "outputs": [],
   "source": [
    "gdp.to_csv(\"Cleaned data/gdp.csv\")"
   ]
  },
  {
   "cell_type": "code",
   "execution_count": 23,
   "id": "158686d6-30eb-45fc-85ad-76eea48b84d9",
   "metadata": {},
   "outputs": [],
   "source": [
    "unemployed_rate = pd.read_csv('UNRATE.csv')"
   ]
  },
  {
   "cell_type": "code",
   "execution_count": 24,
   "id": "e7b6a1f7-8cb3-408e-bb96-7fb28695721b",
   "metadata": {},
   "outputs": [
    {
     "data": {
      "text/html": [
       "<div>\n",
       "<style scoped>\n",
       "    .dataframe tbody tr th:only-of-type {\n",
       "        vertical-align: middle;\n",
       "    }\n",
       "\n",
       "    .dataframe tbody tr th {\n",
       "        vertical-align: top;\n",
       "    }\n",
       "\n",
       "    .dataframe thead th {\n",
       "        text-align: right;\n",
       "    }\n",
       "</style>\n",
       "<table border=\"1\" class=\"dataframe\">\n",
       "  <thead>\n",
       "    <tr style=\"text-align: right;\">\n",
       "      <th></th>\n",
       "      <th>DATE</th>\n",
       "      <th>UNRATE</th>\n",
       "    </tr>\n",
       "  </thead>\n",
       "  <tbody>\n",
       "    <tr>\n",
       "      <th>0</th>\n",
       "      <td>2003-08-01</td>\n",
       "      <td>6.1</td>\n",
       "    </tr>\n",
       "    <tr>\n",
       "      <th>1</th>\n",
       "      <td>2003-09-01</td>\n",
       "      <td>6.1</td>\n",
       "    </tr>\n",
       "    <tr>\n",
       "      <th>2</th>\n",
       "      <td>2003-10-01</td>\n",
       "      <td>6.0</td>\n",
       "    </tr>\n",
       "    <tr>\n",
       "      <th>3</th>\n",
       "      <td>2003-11-01</td>\n",
       "      <td>5.8</td>\n",
       "    </tr>\n",
       "    <tr>\n",
       "      <th>4</th>\n",
       "      <td>2003-12-01</td>\n",
       "      <td>5.7</td>\n",
       "    </tr>\n",
       "  </tbody>\n",
       "</table>\n",
       "</div>"
      ],
      "text/plain": [
       "         DATE  UNRATE\n",
       "0  2003-08-01     6.1\n",
       "1  2003-09-01     6.1\n",
       "2  2003-10-01     6.0\n",
       "3  2003-11-01     5.8\n",
       "4  2003-12-01     5.7"
      ]
     },
     "execution_count": 24,
     "metadata": {},
     "output_type": "execute_result"
    }
   ],
   "source": [
    "unemployed_rate.head()"
   ]
  },
  {
   "cell_type": "code",
   "execution_count": 25,
   "id": "216770d1-274c-4724-bbf7-b3a03e2fc55f",
   "metadata": {},
   "outputs": [],
   "source": [
    "unemployed_rate.set_index('DATE', inplace =True)\n",
    "unemployed_rate.rename(columns= {'UNRATE': 'unemployed_rate'}, inplace =True)\n",
    "unemployed_rate.index = pd.to_datetime(unemployed_rate.index)\n",
    "unemployed_rate = unemployed_rate[\"2003-08-01\":\"2023-08-01\"]"
   ]
  },
  {
   "cell_type": "code",
   "execution_count": 26,
   "id": "6f8c432b-1e94-47b7-848f-09fc3015c762",
   "metadata": {},
   "outputs": [
    {
     "data": {
      "text/plain": [
       "(241, 1)"
      ]
     },
     "execution_count": 26,
     "metadata": {},
     "output_type": "execute_result"
    }
   ],
   "source": [
    "unemployed_rate.shape"
   ]
  },
  {
   "cell_type": "code",
   "execution_count": 27,
   "id": "1a67b1b7-d942-403e-b4e9-699b1deaf5b6",
   "metadata": {},
   "outputs": [],
   "source": [
    "unemployed_rate.to_csv(\"Cleaned data/unemployed_rate.csv\")"
   ]
  },
  {
   "cell_type": "code",
   "execution_count": 28,
   "id": "88dd8571-5796-43e9-bd2c-773e565640a4",
   "metadata": {},
   "outputs": [],
   "source": [
    "mortgage =pd.read_csv(\"MORTGAGE30US.csv\")"
   ]
  },
  {
   "cell_type": "code",
   "execution_count": 29,
   "id": "bad0dc3c-1200-4065-9fc3-6847193d8cc1",
   "metadata": {},
   "outputs": [
    {
     "data": {
      "text/html": [
       "<div>\n",
       "<style scoped>\n",
       "    .dataframe tbody tr th:only-of-type {\n",
       "        vertical-align: middle;\n",
       "    }\n",
       "\n",
       "    .dataframe tbody tr th {\n",
       "        vertical-align: top;\n",
       "    }\n",
       "\n",
       "    .dataframe thead th {\n",
       "        text-align: right;\n",
       "    }\n",
       "</style>\n",
       "<table border=\"1\" class=\"dataframe\">\n",
       "  <thead>\n",
       "    <tr style=\"text-align: right;\">\n",
       "      <th></th>\n",
       "      <th>DATE</th>\n",
       "      <th>MORTGAGE30US</th>\n",
       "    </tr>\n",
       "  </thead>\n",
       "  <tbody>\n",
       "    <tr>\n",
       "      <th>0</th>\n",
       "      <td>2003-08-01</td>\n",
       "      <td>6.14</td>\n",
       "    </tr>\n",
       "    <tr>\n",
       "      <th>1</th>\n",
       "      <td>2003-08-08</td>\n",
       "      <td>6.34</td>\n",
       "    </tr>\n",
       "    <tr>\n",
       "      <th>2</th>\n",
       "      <td>2003-08-15</td>\n",
       "      <td>6.24</td>\n",
       "    </tr>\n",
       "    <tr>\n",
       "      <th>3</th>\n",
       "      <td>2003-08-22</td>\n",
       "      <td>6.28</td>\n",
       "    </tr>\n",
       "    <tr>\n",
       "      <th>4</th>\n",
       "      <td>2003-08-29</td>\n",
       "      <td>6.32</td>\n",
       "    </tr>\n",
       "  </tbody>\n",
       "</table>\n",
       "</div>"
      ],
      "text/plain": [
       "         DATE  MORTGAGE30US\n",
       "0  2003-08-01          6.14\n",
       "1  2003-08-08          6.34\n",
       "2  2003-08-15          6.24\n",
       "3  2003-08-22          6.28\n",
       "4  2003-08-29          6.32"
      ]
     },
     "execution_count": 29,
     "metadata": {},
     "output_type": "execute_result"
    }
   ],
   "source": [
    "mortgage.head()"
   ]
  },
  {
   "cell_type": "code",
   "execution_count": 30,
   "id": "3ece5c35-91a0-482b-a120-a8ea0b28802e",
   "metadata": {},
   "outputs": [],
   "source": [
    "mortgage.set_index('DATE', inplace =True)\n",
    "mortgage.rename(columns= {'MORTGAGE30US': 'mortgage_rate'}, inplace =True)\n",
    "mortgage.index = pd.to_datetime(mortgage.index)\n",
    "mortgage = mortgage[\"2003-08-01\":\"2023-07-27\"]"
   ]
  },
  {
   "cell_type": "code",
   "execution_count": 31,
   "id": "f11ae066-8dd7-4682-a243-a169b5c87301",
   "metadata": {},
   "outputs": [
    {
     "data": {
      "text/plain": [
       "(1044, 1)"
      ]
     },
     "execution_count": 31,
     "metadata": {},
     "output_type": "execute_result"
    }
   ],
   "source": [
    "mortgage.shape"
   ]
  },
  {
   "cell_type": "code",
   "execution_count": 32,
   "id": "7dd6f3f7-ef69-4556-bb31-039a9767af45",
   "metadata": {},
   "outputs": [],
   "source": [
    "mortgage.to_csv(\"Cleaned data/mortgage.csv\")"
   ]
  },
  {
   "cell_type": "code",
   "execution_count": 33,
   "id": "747926ac-9413-4df2-9239-8c2377ec2460",
   "metadata": {},
   "outputs": [],
   "source": [
    "emratio = pd.read_csv(\"EMRATIO.csv\")"
   ]
  },
  {
   "cell_type": "code",
   "execution_count": 34,
   "id": "746cf69b-4455-4031-a606-3014bde4d7ec",
   "metadata": {},
   "outputs": [
    {
     "data": {
      "text/html": [
       "<div>\n",
       "<style scoped>\n",
       "    .dataframe tbody tr th:only-of-type {\n",
       "        vertical-align: middle;\n",
       "    }\n",
       "\n",
       "    .dataframe tbody tr th {\n",
       "        vertical-align: top;\n",
       "    }\n",
       "\n",
       "    .dataframe thead th {\n",
       "        text-align: right;\n",
       "    }\n",
       "</style>\n",
       "<table border=\"1\" class=\"dataframe\">\n",
       "  <thead>\n",
       "    <tr style=\"text-align: right;\">\n",
       "      <th></th>\n",
       "      <th>DATE</th>\n",
       "      <th>EMRATIO</th>\n",
       "    </tr>\n",
       "  </thead>\n",
       "  <tbody>\n",
       "    <tr>\n",
       "      <th>0</th>\n",
       "      <td>2003-08-01</td>\n",
       "      <td>62.1</td>\n",
       "    </tr>\n",
       "    <tr>\n",
       "      <th>1</th>\n",
       "      <td>2003-09-01</td>\n",
       "      <td>62.0</td>\n",
       "    </tr>\n",
       "    <tr>\n",
       "      <th>2</th>\n",
       "      <td>2003-10-01</td>\n",
       "      <td>62.1</td>\n",
       "    </tr>\n",
       "    <tr>\n",
       "      <th>3</th>\n",
       "      <td>2003-11-01</td>\n",
       "      <td>62.3</td>\n",
       "    </tr>\n",
       "    <tr>\n",
       "      <th>4</th>\n",
       "      <td>2003-12-01</td>\n",
       "      <td>62.2</td>\n",
       "    </tr>\n",
       "  </tbody>\n",
       "</table>\n",
       "</div>"
      ],
      "text/plain": [
       "         DATE  EMRATIO\n",
       "0  2003-08-01     62.1\n",
       "1  2003-09-01     62.0\n",
       "2  2003-10-01     62.1\n",
       "3  2003-11-01     62.3\n",
       "4  2003-12-01     62.2"
      ]
     },
     "execution_count": 34,
     "metadata": {},
     "output_type": "execute_result"
    }
   ],
   "source": [
    "emratio.head()"
   ]
  },
  {
   "cell_type": "code",
   "execution_count": 35,
   "id": "0646df88-0ff5-428f-b92b-55c106757212",
   "metadata": {},
   "outputs": [],
   "source": [
    "emratio.set_index('DATE', inplace =True)\n",
    "emratio.rename(columns= {'EMRATIO': 'emratio'}, inplace =True)\n",
    "emratio.index = pd.to_datetime(emratio.index)\n",
    "emratio = emratio[\"2003-08-01\":\"2023-08-01\"]"
   ]
  },
  {
   "cell_type": "code",
   "execution_count": 36,
   "id": "493f3073-1a04-4919-9f4d-19af27d6ed04",
   "metadata": {},
   "outputs": [
    {
     "data": {
      "text/plain": [
       "(241, 1)"
      ]
     },
     "execution_count": 36,
     "metadata": {},
     "output_type": "execute_result"
    }
   ],
   "source": [
    "emratio.shape"
   ]
  },
  {
   "cell_type": "code",
   "execution_count": 37,
   "id": "fb6a5e4e-dd1e-4342-905f-52c2516ab083",
   "metadata": {},
   "outputs": [],
   "source": [
    "emratio.to_csv(\"Cleaned data/emratio.csv\")"
   ]
  },
  {
   "cell_type": "code",
   "execution_count": 38,
   "id": "2d56745f-cdb0-43ac-bf8b-3a3861eab2b8",
   "metadata": {},
   "outputs": [],
   "source": [
    "permit = pd.read_csv(\"PERMIT.csv\")"
   ]
  },
  {
   "cell_type": "code",
   "execution_count": 39,
   "id": "d4eed8ef-612c-4dc9-aec2-ecda42736739",
   "metadata": {},
   "outputs": [
    {
     "data": {
      "text/html": [
       "<div>\n",
       "<style scoped>\n",
       "    .dataframe tbody tr th:only-of-type {\n",
       "        vertical-align: middle;\n",
       "    }\n",
       "\n",
       "    .dataframe tbody tr th {\n",
       "        vertical-align: top;\n",
       "    }\n",
       "\n",
       "    .dataframe thead th {\n",
       "        text-align: right;\n",
       "    }\n",
       "</style>\n",
       "<table border=\"1\" class=\"dataframe\">\n",
       "  <thead>\n",
       "    <tr style=\"text-align: right;\">\n",
       "      <th></th>\n",
       "      <th>DATE</th>\n",
       "      <th>PERMIT</th>\n",
       "    </tr>\n",
       "  </thead>\n",
       "  <tbody>\n",
       "    <tr>\n",
       "      <th>0</th>\n",
       "      <td>2003-08-01</td>\n",
       "      <td>1966.0</td>\n",
       "    </tr>\n",
       "    <tr>\n",
       "      <th>1</th>\n",
       "      <td>2003-09-01</td>\n",
       "      <td>1961.0</td>\n",
       "    </tr>\n",
       "    <tr>\n",
       "      <th>2</th>\n",
       "      <td>2003-10-01</td>\n",
       "      <td>2012.0</td>\n",
       "    </tr>\n",
       "    <tr>\n",
       "      <th>3</th>\n",
       "      <td>2003-11-01</td>\n",
       "      <td>1918.0</td>\n",
       "    </tr>\n",
       "    <tr>\n",
       "      <th>4</th>\n",
       "      <td>2003-12-01</td>\n",
       "      <td>1987.0</td>\n",
       "    </tr>\n",
       "  </tbody>\n",
       "</table>\n",
       "</div>"
      ],
      "text/plain": [
       "         DATE  PERMIT\n",
       "0  2003-08-01  1966.0\n",
       "1  2003-09-01  1961.0\n",
       "2  2003-10-01  2012.0\n",
       "3  2003-11-01  1918.0\n",
       "4  2003-12-01  1987.0"
      ]
     },
     "execution_count": 39,
     "metadata": {},
     "output_type": "execute_result"
    }
   ],
   "source": [
    "permit.head()"
   ]
  },
  {
   "cell_type": "code",
   "execution_count": 40,
   "id": "debdd2bd-cd7a-460c-8cdc-bd43cc65392e",
   "metadata": {},
   "outputs": [],
   "source": [
    "permit.set_index('DATE', inplace =True)\n",
    "permit.rename(columns= {'PERMIT': 'permit'}, inplace =True)\n",
    "permit.index = pd.to_datetime(permit.index)\n",
    "permit = permit[\"2003-08-01\":\"2023-08-01\"]"
   ]
  },
  {
   "cell_type": "code",
   "execution_count": 41,
   "id": "37117553-79b0-4178-8472-6a08f54ad3d4",
   "metadata": {},
   "outputs": [
    {
     "data": {
      "text/plain": [
       "(241, 1)"
      ]
     },
     "execution_count": 41,
     "metadata": {},
     "output_type": "execute_result"
    }
   ],
   "source": [
    "permit.shape"
   ]
  },
  {
   "cell_type": "code",
   "execution_count": 42,
   "id": "56d73106-c5f9-44a6-81c8-0ecee8684858",
   "metadata": {},
   "outputs": [],
   "source": [
    "permit.to_csv(\"Cleaned data/permit.csv\")"
   ]
  },
  {
   "cell_type": "code",
   "execution_count": 43,
   "id": "31c489ad-4f3b-44a9-92c1-dade2b04f827",
   "metadata": {},
   "outputs": [],
   "source": [
    "labor_percent = pd.read_csv(\"CIVPART.csv\")"
   ]
  },
  {
   "cell_type": "code",
   "execution_count": 44,
   "id": "ec234aca-3677-40d7-9e5e-08e58dc719ad",
   "metadata": {},
   "outputs": [
    {
     "data": {
      "text/html": [
       "<div>\n",
       "<style scoped>\n",
       "    .dataframe tbody tr th:only-of-type {\n",
       "        vertical-align: middle;\n",
       "    }\n",
       "\n",
       "    .dataframe tbody tr th {\n",
       "        vertical-align: top;\n",
       "    }\n",
       "\n",
       "    .dataframe thead th {\n",
       "        text-align: right;\n",
       "    }\n",
       "</style>\n",
       "<table border=\"1\" class=\"dataframe\">\n",
       "  <thead>\n",
       "    <tr style=\"text-align: right;\">\n",
       "      <th></th>\n",
       "      <th>DATE</th>\n",
       "      <th>CIVPART</th>\n",
       "    </tr>\n",
       "  </thead>\n",
       "  <tbody>\n",
       "    <tr>\n",
       "      <th>0</th>\n",
       "      <td>2003-08-01</td>\n",
       "      <td>66.1</td>\n",
       "    </tr>\n",
       "    <tr>\n",
       "      <th>1</th>\n",
       "      <td>2003-09-01</td>\n",
       "      <td>66.1</td>\n",
       "    </tr>\n",
       "    <tr>\n",
       "      <th>2</th>\n",
       "      <td>2003-10-01</td>\n",
       "      <td>66.1</td>\n",
       "    </tr>\n",
       "    <tr>\n",
       "      <th>3</th>\n",
       "      <td>2003-11-01</td>\n",
       "      <td>66.1</td>\n",
       "    </tr>\n",
       "    <tr>\n",
       "      <th>4</th>\n",
       "      <td>2003-12-01</td>\n",
       "      <td>65.9</td>\n",
       "    </tr>\n",
       "  </tbody>\n",
       "</table>\n",
       "</div>"
      ],
      "text/plain": [
       "         DATE  CIVPART\n",
       "0  2003-08-01     66.1\n",
       "1  2003-09-01     66.1\n",
       "2  2003-10-01     66.1\n",
       "3  2003-11-01     66.1\n",
       "4  2003-12-01     65.9"
      ]
     },
     "execution_count": 44,
     "metadata": {},
     "output_type": "execute_result"
    }
   ],
   "source": [
    "labor_percent.head()"
   ]
  },
  {
   "cell_type": "code",
   "execution_count": 45,
   "id": "78de09c0-1a07-480d-ade4-a0a95787c42c",
   "metadata": {},
   "outputs": [],
   "source": [
    "labor_percent.set_index('DATE', inplace =True)\n",
    "labor_percent.rename(columns= {'CIVPART': 'labor_percent'}, inplace =True)\n",
    "labor_percent.index = pd.to_datetime(labor_percent.index)\n",
    "labor_percent = labor_percent[\"2003-08-01\":\"2023-08-01\"]"
   ]
  },
  {
   "cell_type": "code",
   "execution_count": 46,
   "id": "36c18f8f-1f47-4d89-a82d-be44f23b2fe1",
   "metadata": {},
   "outputs": [
    {
     "data": {
      "text/plain": [
       "(241, 1)"
      ]
     },
     "execution_count": 46,
     "metadata": {},
     "output_type": "execute_result"
    }
   ],
   "source": [
    "labor_percent.shape"
   ]
  },
  {
   "cell_type": "code",
   "execution_count": 47,
   "id": "0638122b-45f7-4a47-a5bc-af90e6a6d973",
   "metadata": {},
   "outputs": [],
   "source": [
    "labor_percent.to_csv(\"Cleaned data/labor_percent.csv\")"
   ]
  },
  {
   "cell_type": "code",
   "execution_count": 48,
   "id": "1b501557-82e0-4642-a20b-ea0f84164cad",
   "metadata": {},
   "outputs": [],
   "source": [
    "monthly_supply = pd.read_csv(\"MSACSR.csv\")"
   ]
  },
  {
   "cell_type": "code",
   "execution_count": 49,
   "id": "0a342865-2661-4117-9861-3246fee54f32",
   "metadata": {},
   "outputs": [
    {
     "data": {
      "text/html": [
       "<div>\n",
       "<style scoped>\n",
       "    .dataframe tbody tr th:only-of-type {\n",
       "        vertical-align: middle;\n",
       "    }\n",
       "\n",
       "    .dataframe tbody tr th {\n",
       "        vertical-align: top;\n",
       "    }\n",
       "\n",
       "    .dataframe thead th {\n",
       "        text-align: right;\n",
       "    }\n",
       "</style>\n",
       "<table border=\"1\" class=\"dataframe\">\n",
       "  <thead>\n",
       "    <tr style=\"text-align: right;\">\n",
       "      <th></th>\n",
       "      <th>DATE</th>\n",
       "      <th>MSACSR</th>\n",
       "    </tr>\n",
       "  </thead>\n",
       "  <tbody>\n",
       "    <tr>\n",
       "      <th>0</th>\n",
       "      <td>2003-08-01</td>\n",
       "      <td>3.5</td>\n",
       "    </tr>\n",
       "    <tr>\n",
       "      <th>1</th>\n",
       "      <td>2003-09-01</td>\n",
       "      <td>3.8</td>\n",
       "    </tr>\n",
       "    <tr>\n",
       "      <th>2</th>\n",
       "      <td>2003-10-01</td>\n",
       "      <td>3.8</td>\n",
       "    </tr>\n",
       "    <tr>\n",
       "      <th>3</th>\n",
       "      <td>2003-11-01</td>\n",
       "      <td>4.1</td>\n",
       "    </tr>\n",
       "    <tr>\n",
       "      <th>4</th>\n",
       "      <td>2003-12-01</td>\n",
       "      <td>4.0</td>\n",
       "    </tr>\n",
       "  </tbody>\n",
       "</table>\n",
       "</div>"
      ],
      "text/plain": [
       "         DATE  MSACSR\n",
       "0  2003-08-01     3.5\n",
       "1  2003-09-01     3.8\n",
       "2  2003-10-01     3.8\n",
       "3  2003-11-01     4.1\n",
       "4  2003-12-01     4.0"
      ]
     },
     "execution_count": 49,
     "metadata": {},
     "output_type": "execute_result"
    }
   ],
   "source": [
    "monthly_supply.head()"
   ]
  },
  {
   "cell_type": "code",
   "execution_count": 50,
   "id": "6bb59333-bbb3-4f0c-8ef3-bee0cbac0fc2",
   "metadata": {},
   "outputs": [],
   "source": [
    "monthly_supply.set_index('DATE', inplace =True)\n",
    "monthly_supply.rename(columns= {'MSACSR': 'monthly_supply'}, inplace =True)\n",
    "monthly_supply.index = pd.to_datetime(monthly_supply.index)\n",
    "monthly_supply = monthly_supply[\"2003-08-01\":\"2023-08-01\"]"
   ]
  },
  {
   "cell_type": "code",
   "execution_count": 51,
   "id": "72e654dc-1af9-4e83-82aa-73dcccc1e294",
   "metadata": {},
   "outputs": [
    {
     "data": {
      "text/plain": [
       "(241, 1)"
      ]
     },
     "execution_count": 51,
     "metadata": {},
     "output_type": "execute_result"
    }
   ],
   "source": [
    "monthly_supply.shape"
   ]
  },
  {
   "cell_type": "code",
   "execution_count": 52,
   "id": "4dc42e7b-16eb-431a-8d6f-89bdff1bbd00",
   "metadata": {},
   "outputs": [],
   "source": [
    "monthly_supply.to_csv(\"Cleaned data/monthly_supply.csv\")"
   ]
  },
  {
   "cell_type": "code",
   "execution_count": 53,
   "id": "db186b26-d46a-44d3-9fc9-4127f6d0d0e8",
   "metadata": {},
   "outputs": [],
   "source": [
    "House_starts = pd.read_csv(\"HOUST.csv\")"
   ]
  },
  {
   "cell_type": "code",
   "execution_count": 54,
   "id": "2389e32b-6d28-4b2c-a67b-ff638eecb96e",
   "metadata": {},
   "outputs": [
    {
     "data": {
      "text/html": [
       "<div>\n",
       "<style scoped>\n",
       "    .dataframe tbody tr th:only-of-type {\n",
       "        vertical-align: middle;\n",
       "    }\n",
       "\n",
       "    .dataframe tbody tr th {\n",
       "        vertical-align: top;\n",
       "    }\n",
       "\n",
       "    .dataframe thead th {\n",
       "        text-align: right;\n",
       "    }\n",
       "</style>\n",
       "<table border=\"1\" class=\"dataframe\">\n",
       "  <thead>\n",
       "    <tr style=\"text-align: right;\">\n",
       "      <th></th>\n",
       "      <th>DATE</th>\n",
       "      <th>HOUST</th>\n",
       "    </tr>\n",
       "  </thead>\n",
       "  <tbody>\n",
       "    <tr>\n",
       "      <th>0</th>\n",
       "      <td>2003-08-01</td>\n",
       "      <td>1833.0</td>\n",
       "    </tr>\n",
       "    <tr>\n",
       "      <th>1</th>\n",
       "      <td>2003-09-01</td>\n",
       "      <td>1939.0</td>\n",
       "    </tr>\n",
       "    <tr>\n",
       "      <th>2</th>\n",
       "      <td>2003-10-01</td>\n",
       "      <td>1967.0</td>\n",
       "    </tr>\n",
       "    <tr>\n",
       "      <th>3</th>\n",
       "      <td>2003-11-01</td>\n",
       "      <td>2083.0</td>\n",
       "    </tr>\n",
       "    <tr>\n",
       "      <th>4</th>\n",
       "      <td>2003-12-01</td>\n",
       "      <td>2057.0</td>\n",
       "    </tr>\n",
       "  </tbody>\n",
       "</table>\n",
       "</div>"
      ],
      "text/plain": [
       "         DATE   HOUST\n",
       "0  2003-08-01  1833.0\n",
       "1  2003-09-01  1939.0\n",
       "2  2003-10-01  1967.0\n",
       "3  2003-11-01  2083.0\n",
       "4  2003-12-01  2057.0"
      ]
     },
     "execution_count": 54,
     "metadata": {},
     "output_type": "execute_result"
    }
   ],
   "source": [
    "House_starts.head()"
   ]
  },
  {
   "cell_type": "code",
   "execution_count": 55,
   "id": "9d897ef4-b0a4-4c9d-85fa-a1deb9a22722",
   "metadata": {},
   "outputs": [],
   "source": [
    "House_starts.set_index('DATE', inplace =True)\n",
    "House_starts.rename(columns= {'HOUST': 'house_st'}, inplace =True)\n",
    "House_starts.index = pd.to_datetime(House_starts.index)\n",
    "House_starts = House_starts[\"2003-08-01\":\"2023-08-01\"]"
   ]
  },
  {
   "cell_type": "code",
   "execution_count": 56,
   "id": "77dd83dc-7c41-4756-9f03-c3d03cafe8cb",
   "metadata": {},
   "outputs": [
    {
     "data": {
      "text/plain": [
       "(241, 1)"
      ]
     },
     "execution_count": 56,
     "metadata": {},
     "output_type": "execute_result"
    }
   ],
   "source": [
    "House_starts.shape"
   ]
  },
  {
   "cell_type": "code",
   "execution_count": 57,
   "id": "c4fd0824-0a4c-4233-918c-a921b29397f8",
   "metadata": {},
   "outputs": [],
   "source": [
    "House_starts.to_csv(\"Cleaned data/House_starts.csv\")"
   ]
  },
  {
   "cell_type": "code",
   "execution_count": 58,
   "id": "7c7059c3-cd53-4411-bf5e-d4c6fcb8d75e",
   "metadata": {},
   "outputs": [],
   "source": [
    "MSPUS = pd.read_csv(\"MSPUS.csv\")"
   ]
  },
  {
   "cell_type": "code",
   "execution_count": 59,
   "id": "b204eace-d9d8-42c9-ac43-05faf62208bd",
   "metadata": {},
   "outputs": [
    {
     "data": {
      "text/html": [
       "<div>\n",
       "<style scoped>\n",
       "    .dataframe tbody tr th:only-of-type {\n",
       "        vertical-align: middle;\n",
       "    }\n",
       "\n",
       "    .dataframe tbody tr th {\n",
       "        vertical-align: top;\n",
       "    }\n",
       "\n",
       "    .dataframe thead th {\n",
       "        text-align: right;\n",
       "    }\n",
       "</style>\n",
       "<table border=\"1\" class=\"dataframe\">\n",
       "  <thead>\n",
       "    <tr style=\"text-align: right;\">\n",
       "      <th></th>\n",
       "      <th>DATE</th>\n",
       "      <th>MSPUS</th>\n",
       "    </tr>\n",
       "  </thead>\n",
       "  <tbody>\n",
       "    <tr>\n",
       "      <th>0</th>\n",
       "      <td>2003-07-01</td>\n",
       "      <td>191900.0</td>\n",
       "    </tr>\n",
       "    <tr>\n",
       "      <th>1</th>\n",
       "      <td>2003-10-01</td>\n",
       "      <td>198800.0</td>\n",
       "    </tr>\n",
       "    <tr>\n",
       "      <th>2</th>\n",
       "      <td>2004-01-01</td>\n",
       "      <td>212700.0</td>\n",
       "    </tr>\n",
       "    <tr>\n",
       "      <th>3</th>\n",
       "      <td>2004-04-01</td>\n",
       "      <td>217600.0</td>\n",
       "    </tr>\n",
       "    <tr>\n",
       "      <th>4</th>\n",
       "      <td>2004-07-01</td>\n",
       "      <td>213500.0</td>\n",
       "    </tr>\n",
       "  </tbody>\n",
       "</table>\n",
       "</div>"
      ],
      "text/plain": [
       "         DATE     MSPUS\n",
       "0  2003-07-01  191900.0\n",
       "1  2003-10-01  198800.0\n",
       "2  2004-01-01  212700.0\n",
       "3  2004-04-01  217600.0\n",
       "4  2004-07-01  213500.0"
      ]
     },
     "execution_count": 59,
     "metadata": {},
     "output_type": "execute_result"
    }
   ],
   "source": [
    "MSPUS.head()"
   ]
  },
  {
   "cell_type": "code",
   "execution_count": 60,
   "id": "27c875c2-5218-4014-908c-0e37ba8bf16a",
   "metadata": {},
   "outputs": [],
   "source": [
    "MSPUS.set_index('DATE', inplace =True)\n",
    "MSPUS.index = pd.to_datetime(MSPUS.index)\n",
    "\n",
    "# Resampling\n",
    "MSPUS = MSPUS.resample('M').ffill()\n",
    "\n",
    "# # Set the day of the index to 1\n",
    "MSPUS.index = MSPUS.index.map(lambda x: x.replace(day=1))\n",
    "MSPUS = MSPUS[\"2003-07-01\":\"2023-07-01\"]"
   ]
  },
  {
   "cell_type": "code",
   "execution_count": 61,
   "id": "c7c250cb-0001-43ab-8660-227f247fd01c",
   "metadata": {},
   "outputs": [
    {
     "data": {
      "text/plain": [
       "(241, 1)"
      ]
     },
     "execution_count": 61,
     "metadata": {},
     "output_type": "execute_result"
    }
   ],
   "source": [
    "MSPUS.shape"
   ]
  },
  {
   "cell_type": "code",
   "execution_count": 62,
   "id": "6e88aa6b-3f43-4c6a-8999-7246a5c2d42f",
   "metadata": {},
   "outputs": [],
   "source": [
    "MSPUS.to_csv(\"Cleaned data/MSPUS.csv\")"
   ]
  },
  {
   "cell_type": "code",
   "execution_count": 63,
   "id": "9e1c4e8e-3ffe-4639-b40c-8b4f1f0da798",
   "metadata": {},
   "outputs": [],
   "source": [
    "PPI_Cement = pd.read_csv(\"PCU32733273.csv\")"
   ]
  },
  {
   "cell_type": "code",
   "execution_count": 64,
   "id": "04f5db3d-9424-4656-a5f0-317df935607c",
   "metadata": {},
   "outputs": [
    {
     "data": {
      "text/html": [
       "<div>\n",
       "<style scoped>\n",
       "    .dataframe tbody tr th:only-of-type {\n",
       "        vertical-align: middle;\n",
       "    }\n",
       "\n",
       "    .dataframe tbody tr th {\n",
       "        vertical-align: top;\n",
       "    }\n",
       "\n",
       "    .dataframe thead th {\n",
       "        text-align: right;\n",
       "    }\n",
       "</style>\n",
       "<table border=\"1\" class=\"dataframe\">\n",
       "  <thead>\n",
       "    <tr style=\"text-align: right;\">\n",
       "      <th></th>\n",
       "      <th>DATE</th>\n",
       "      <th>PCU32733273</th>\n",
       "    </tr>\n",
       "  </thead>\n",
       "  <tbody>\n",
       "    <tr>\n",
       "      <th>0</th>\n",
       "      <td>2003-12-01</td>\n",
       "      <td>100.0</td>\n",
       "    </tr>\n",
       "    <tr>\n",
       "      <th>1</th>\n",
       "      <td>2004-01-01</td>\n",
       "      <td>100.9</td>\n",
       "    </tr>\n",
       "    <tr>\n",
       "      <th>2</th>\n",
       "      <td>2004-02-01</td>\n",
       "      <td>101.7</td>\n",
       "    </tr>\n",
       "    <tr>\n",
       "      <th>3</th>\n",
       "      <td>2004-03-01</td>\n",
       "      <td>101.7</td>\n",
       "    </tr>\n",
       "    <tr>\n",
       "      <th>4</th>\n",
       "      <td>2004-04-01</td>\n",
       "      <td>102.4</td>\n",
       "    </tr>\n",
       "  </tbody>\n",
       "</table>\n",
       "</div>"
      ],
      "text/plain": [
       "         DATE  PCU32733273\n",
       "0  2003-12-01        100.0\n",
       "1  2004-01-01        100.9\n",
       "2  2004-02-01        101.7\n",
       "3  2004-03-01        101.7\n",
       "4  2004-04-01        102.4"
      ]
     },
     "execution_count": 64,
     "metadata": {},
     "output_type": "execute_result"
    }
   ],
   "source": [
    "PPI_Cement.head()"
   ]
  },
  {
   "cell_type": "code",
   "execution_count": 65,
   "id": "5983928e-38c9-4c1a-b75d-eb2af51690c3",
   "metadata": {},
   "outputs": [],
   "source": [
    "PPI_Cement.set_index('DATE', inplace =True)\n",
    "PPI_Cement.rename(columns= {'PCU32733273': 'PPI_Cement'}, inplace =True)\n",
    "PPI_Cement.index = pd.to_datetime(PPI_Cement.index)\n",
    "PPI_Cement = PPI_Cement[\"2003-12-01\":\"2023-08-01\"]"
   ]
  },
  {
   "cell_type": "code",
   "execution_count": 66,
   "id": "84c180fb-ef3c-4925-92cb-034fe544c1ad",
   "metadata": {},
   "outputs": [
    {
     "data": {
      "text/plain": [
       "(237, 1)"
      ]
     },
     "execution_count": 66,
     "metadata": {},
     "output_type": "execute_result"
    }
   ],
   "source": [
    "PPI_Cement.shape"
   ]
  },
  {
   "cell_type": "code",
   "execution_count": 67,
   "id": "3964a05d-5eda-4634-891a-f668116c024c",
   "metadata": {},
   "outputs": [],
   "source": [
    "PPI_Cement.to_csv(\"Cleaned data/PPI_Cement.csv\")"
   ]
  },
  {
   "cell_type": "code",
   "execution_count": 68,
   "id": "3e84cd22-5849-44bb-ba2c-4a07a7593874",
   "metadata": {},
   "outputs": [],
   "source": [
    "PPI_Concrete = pd.read_csv(\"PCU32733132733106.csv\")"
   ]
  },
  {
   "cell_type": "code",
   "execution_count": 69,
   "id": "e3d3d7ca-c657-4922-9a37-e092330fa476",
   "metadata": {},
   "outputs": [
    {
     "data": {
      "text/html": [
       "<div>\n",
       "<style scoped>\n",
       "    .dataframe tbody tr th:only-of-type {\n",
       "        vertical-align: middle;\n",
       "    }\n",
       "\n",
       "    .dataframe tbody tr th {\n",
       "        vertical-align: top;\n",
       "    }\n",
       "\n",
       "    .dataframe thead th {\n",
       "        text-align: right;\n",
       "    }\n",
       "</style>\n",
       "<table border=\"1\" class=\"dataframe\">\n",
       "  <thead>\n",
       "    <tr style=\"text-align: right;\">\n",
       "      <th></th>\n",
       "      <th>DATE</th>\n",
       "      <th>PCU32733132733106</th>\n",
       "    </tr>\n",
       "  </thead>\n",
       "  <tbody>\n",
       "    <tr>\n",
       "      <th>0</th>\n",
       "      <td>2003-08-01</td>\n",
       "      <td>154.4</td>\n",
       "    </tr>\n",
       "    <tr>\n",
       "      <th>1</th>\n",
       "      <td>2003-09-01</td>\n",
       "      <td>154.4</td>\n",
       "    </tr>\n",
       "    <tr>\n",
       "      <th>2</th>\n",
       "      <td>2003-10-01</td>\n",
       "      <td>154.4</td>\n",
       "    </tr>\n",
       "    <tr>\n",
       "      <th>3</th>\n",
       "      <td>2003-11-01</td>\n",
       "      <td>154.4</td>\n",
       "    </tr>\n",
       "    <tr>\n",
       "      <th>4</th>\n",
       "      <td>2003-12-01</td>\n",
       "      <td>154.4</td>\n",
       "    </tr>\n",
       "  </tbody>\n",
       "</table>\n",
       "</div>"
      ],
      "text/plain": [
       "         DATE  PCU32733132733106\n",
       "0  2003-08-01              154.4\n",
       "1  2003-09-01              154.4\n",
       "2  2003-10-01              154.4\n",
       "3  2003-11-01              154.4\n",
       "4  2003-12-01              154.4"
      ]
     },
     "execution_count": 69,
     "metadata": {},
     "output_type": "execute_result"
    }
   ],
   "source": [
    "PPI_Concrete.head()"
   ]
  },
  {
   "cell_type": "code",
   "execution_count": 70,
   "id": "fdb9f7ce-5e0c-4c27-a29b-88c319335122",
   "metadata": {},
   "outputs": [],
   "source": [
    "PPI_Concrete.set_index('DATE', inplace =True)\n",
    "PPI_Concrete.rename(columns= {'PCU32733132733106': 'PPI_Concrete'}, inplace =True)\n",
    "PPI_Concrete.index = pd.to_datetime(PPI_Concrete.index)\n",
    "PPI_Concrete = PPI_Concrete[\"2003-08-01\":\"2023-08-01\"]"
   ]
  },
  {
   "cell_type": "code",
   "execution_count": 71,
   "id": "660316d7-9562-49da-97fa-49c4e4745de2",
   "metadata": {},
   "outputs": [
    {
     "data": {
      "text/plain": [
       "(241, 1)"
      ]
     },
     "execution_count": 71,
     "metadata": {},
     "output_type": "execute_result"
    }
   ],
   "source": [
    "PPI_Concrete.shape"
   ]
  },
  {
   "cell_type": "code",
   "execution_count": 72,
   "id": "25726586-6af5-4ed5-b52a-4cbec412ad2b",
   "metadata": {},
   "outputs": [],
   "source": [
    "PPI_Concrete.to_csv(\"Cleaned data/PPI_Concrete.csv\")"
   ]
  },
  {
   "cell_type": "code",
   "execution_count": 73,
   "id": "40d63090-abf0-4faf-bae2-ea6a4dfee8db",
   "metadata": {},
   "outputs": [],
   "source": [
    "all_Const_Emp = pd.read_csv(\"CES2023610001.csv\")"
   ]
  },
  {
   "cell_type": "code",
   "execution_count": 74,
   "id": "67bad54a-d3ee-4e00-b722-5ebb3f205dcc",
   "metadata": {},
   "outputs": [
    {
     "data": {
      "text/html": [
       "<div>\n",
       "<style scoped>\n",
       "    .dataframe tbody tr th:only-of-type {\n",
       "        vertical-align: middle;\n",
       "    }\n",
       "\n",
       "    .dataframe tbody tr th {\n",
       "        vertical-align: top;\n",
       "    }\n",
       "\n",
       "    .dataframe thead th {\n",
       "        text-align: right;\n",
       "    }\n",
       "</style>\n",
       "<table border=\"1\" class=\"dataframe\">\n",
       "  <thead>\n",
       "    <tr style=\"text-align: right;\">\n",
       "      <th></th>\n",
       "      <th>DATE</th>\n",
       "      <th>CES2023610001</th>\n",
       "    </tr>\n",
       "  </thead>\n",
       "  <tbody>\n",
       "    <tr>\n",
       "      <th>0</th>\n",
       "      <td>2003-08-01</td>\n",
       "      <td>840.2</td>\n",
       "    </tr>\n",
       "    <tr>\n",
       "      <th>1</th>\n",
       "      <td>2003-09-01</td>\n",
       "      <td>850.2</td>\n",
       "    </tr>\n",
       "    <tr>\n",
       "      <th>2</th>\n",
       "      <td>2003-10-01</td>\n",
       "      <td>854.6</td>\n",
       "    </tr>\n",
       "    <tr>\n",
       "      <th>3</th>\n",
       "      <td>2003-11-01</td>\n",
       "      <td>858.5</td>\n",
       "    </tr>\n",
       "    <tr>\n",
       "      <th>4</th>\n",
       "      <td>2003-12-01</td>\n",
       "      <td>863.3</td>\n",
       "    </tr>\n",
       "  </tbody>\n",
       "</table>\n",
       "</div>"
      ],
      "text/plain": [
       "         DATE  CES2023610001\n",
       "0  2003-08-01          840.2\n",
       "1  2003-09-01          850.2\n",
       "2  2003-10-01          854.6\n",
       "3  2003-11-01          858.5\n",
       "4  2003-12-01          863.3"
      ]
     },
     "execution_count": 74,
     "metadata": {},
     "output_type": "execute_result"
    }
   ],
   "source": [
    "all_Const_Emp.head()"
   ]
  },
  {
   "cell_type": "code",
   "execution_count": 75,
   "id": "6538706d-c38b-4d5a-b2b4-494d96964c9c",
   "metadata": {},
   "outputs": [],
   "source": [
    "all_Const_Emp.set_index('DATE', inplace =True)\n",
    "all_Const_Emp.rename(columns= {'CES2023610001': 'all_Const_Emp'}, inplace =True)\n",
    "all_Const_Emp.index = pd.to_datetime(all_Const_Emp.index)\n",
    "all_Const_Emp = all_Const_Emp[\"2003-08-01\":\"2023-08-01\"]"
   ]
  },
  {
   "cell_type": "code",
   "execution_count": 76,
   "id": "92d6f2bb-5132-40be-91b0-de931490fce8",
   "metadata": {},
   "outputs": [
    {
     "data": {
      "text/plain": [
       "(241, 1)"
      ]
     },
     "execution_count": 76,
     "metadata": {},
     "output_type": "execute_result"
    }
   ],
   "source": [
    "all_Const_Emp.shape"
   ]
  },
  {
   "cell_type": "code",
   "execution_count": 77,
   "id": "761548ed-78ac-4ae6-8b77-cbdd0b228f61",
   "metadata": {},
   "outputs": [],
   "source": [
    "all_Const_Emp.to_csv(\"Cleaned data/all_Const_Emp.csv\")"
   ]
  },
  {
   "cell_type": "code",
   "execution_count": 78,
   "id": "950d9783-bc99-4278-b1c3-e6a7c5b23fd1",
   "metadata": {},
   "outputs": [],
   "source": [
    "total_emp_cons = pd.read_csv(\"USCONS.csv\")"
   ]
  },
  {
   "cell_type": "code",
   "execution_count": 79,
   "id": "717d02c6-4272-4dbe-ab5b-f6b9a927612c",
   "metadata": {},
   "outputs": [
    {
     "data": {
      "text/html": [
       "<div>\n",
       "<style scoped>\n",
       "    .dataframe tbody tr th:only-of-type {\n",
       "        vertical-align: middle;\n",
       "    }\n",
       "\n",
       "    .dataframe tbody tr th {\n",
       "        vertical-align: top;\n",
       "    }\n",
       "\n",
       "    .dataframe thead th {\n",
       "        text-align: right;\n",
       "    }\n",
       "</style>\n",
       "<table border=\"1\" class=\"dataframe\">\n",
       "  <thead>\n",
       "    <tr style=\"text-align: right;\">\n",
       "      <th></th>\n",
       "      <th>DATE</th>\n",
       "      <th>USCONS</th>\n",
       "    </tr>\n",
       "  </thead>\n",
       "  <tbody>\n",
       "    <tr>\n",
       "      <th>0</th>\n",
       "      <td>2003-08-01</td>\n",
       "      <td>6760</td>\n",
       "    </tr>\n",
       "    <tr>\n",
       "      <th>1</th>\n",
       "      <td>2003-09-01</td>\n",
       "      <td>6783</td>\n",
       "    </tr>\n",
       "    <tr>\n",
       "      <th>2</th>\n",
       "      <td>2003-10-01</td>\n",
       "      <td>6784</td>\n",
       "    </tr>\n",
       "    <tr>\n",
       "      <th>3</th>\n",
       "      <td>2003-11-01</td>\n",
       "      <td>6796</td>\n",
       "    </tr>\n",
       "    <tr>\n",
       "      <th>4</th>\n",
       "      <td>2003-12-01</td>\n",
       "      <td>6827</td>\n",
       "    </tr>\n",
       "  </tbody>\n",
       "</table>\n",
       "</div>"
      ],
      "text/plain": [
       "         DATE  USCONS\n",
       "0  2003-08-01    6760\n",
       "1  2003-09-01    6783\n",
       "2  2003-10-01    6784\n",
       "3  2003-11-01    6796\n",
       "4  2003-12-01    6827"
      ]
     },
     "execution_count": 79,
     "metadata": {},
     "output_type": "execute_result"
    }
   ],
   "source": [
    "total_emp_cons.head()"
   ]
  },
  {
   "cell_type": "code",
   "execution_count": 80,
   "id": "9390d8d4-ec22-4b68-a3b9-c6a57d07a8d4",
   "metadata": {},
   "outputs": [],
   "source": [
    "total_emp_cons.set_index('DATE', inplace =True)\n",
    "total_emp_cons.rename(columns= {'USCONS': 'total_emp_cons'}, inplace =True)\n",
    "total_emp_cons.index = pd.to_datetime(total_emp_cons.index)\n",
    "total_emp_cons = total_emp_cons[\"2003-08-01\":\"2023-08-01\"]"
   ]
  },
  {
   "cell_type": "code",
   "execution_count": 81,
   "id": "6b0f5e16-5c4b-4c74-8b14-f7c7d97efd62",
   "metadata": {},
   "outputs": [
    {
     "data": {
      "text/plain": [
       "(241, 1)"
      ]
     },
     "execution_count": 81,
     "metadata": {},
     "output_type": "execute_result"
    }
   ],
   "source": [
    "total_emp_cons.shape"
   ]
  },
  {
   "cell_type": "code",
   "execution_count": 82,
   "id": "4ac1103f-5bb8-4f9f-a420-f5d1afb365b0",
   "metadata": {},
   "outputs": [],
   "source": [
    "total_emp_cons.to_csv(\"Cleaned data/total_emp_cons.csv\")"
   ]
  },
  {
   "cell_type": "code",
   "execution_count": 83,
   "id": "24cc79af-b6c4-4328-ab85-f05c8fccc857",
   "metadata": {},
   "outputs": [],
   "source": [
    "IPI_Cement = pd.read_csv(\"IPN32731S.csv\")"
   ]
  },
  {
   "cell_type": "code",
   "execution_count": 84,
   "id": "64a02967-46df-4bc8-987a-1437bd483448",
   "metadata": {},
   "outputs": [
    {
     "data": {
      "text/html": [
       "<div>\n",
       "<style scoped>\n",
       "    .dataframe tbody tr th:only-of-type {\n",
       "        vertical-align: middle;\n",
       "    }\n",
       "\n",
       "    .dataframe tbody tr th {\n",
       "        vertical-align: top;\n",
       "    }\n",
       "\n",
       "    .dataframe thead th {\n",
       "        text-align: right;\n",
       "    }\n",
       "</style>\n",
       "<table border=\"1\" class=\"dataframe\">\n",
       "  <thead>\n",
       "    <tr style=\"text-align: right;\">\n",
       "      <th></th>\n",
       "      <th>DATE</th>\n",
       "      <th>IPN32731S</th>\n",
       "    </tr>\n",
       "  </thead>\n",
       "  <tbody>\n",
       "    <tr>\n",
       "      <th>0</th>\n",
       "      <td>2003-08-01</td>\n",
       "      <td>152.4980</td>\n",
       "    </tr>\n",
       "    <tr>\n",
       "      <th>1</th>\n",
       "      <td>2003-09-01</td>\n",
       "      <td>154.9852</td>\n",
       "    </tr>\n",
       "    <tr>\n",
       "      <th>2</th>\n",
       "      <td>2003-10-01</td>\n",
       "      <td>162.1132</td>\n",
       "    </tr>\n",
       "    <tr>\n",
       "      <th>3</th>\n",
       "      <td>2003-11-01</td>\n",
       "      <td>156.7902</td>\n",
       "    </tr>\n",
       "    <tr>\n",
       "      <th>4</th>\n",
       "      <td>2003-12-01</td>\n",
       "      <td>160.2710</td>\n",
       "    </tr>\n",
       "  </tbody>\n",
       "</table>\n",
       "</div>"
      ],
      "text/plain": [
       "         DATE  IPN32731S\n",
       "0  2003-08-01   152.4980\n",
       "1  2003-09-01   154.9852\n",
       "2  2003-10-01   162.1132\n",
       "3  2003-11-01   156.7902\n",
       "4  2003-12-01   160.2710"
      ]
     },
     "execution_count": 84,
     "metadata": {},
     "output_type": "execute_result"
    }
   ],
   "source": [
    "IPI_Cement.head()"
   ]
  },
  {
   "cell_type": "code",
   "execution_count": 85,
   "id": "e14282aa-e346-41e2-bbe8-f8aec32e92b2",
   "metadata": {},
   "outputs": [],
   "source": [
    "IPI_Cement.set_index('DATE', inplace =True)\n",
    "IPI_Cement.rename(columns= {'IPN32731S': 'IPI_Cement'}, inplace =True)\n",
    "IPI_Cement.index = pd.to_datetime(IPI_Cement.index)\n",
    "IPI_Cement = IPI_Cement[\"2003-08-01\":\"2023-07-01\"]"
   ]
  },
  {
   "cell_type": "code",
   "execution_count": 86,
   "id": "c67fb80b-b387-48cd-b6b9-f629af5bc09f",
   "metadata": {},
   "outputs": [
    {
     "data": {
      "text/plain": [
       "(240, 1)"
      ]
     },
     "execution_count": 86,
     "metadata": {},
     "output_type": "execute_result"
    }
   ],
   "source": [
    "IPI_Cement.shape"
   ]
  },
  {
   "cell_type": "code",
   "execution_count": 87,
   "id": "cde303fa-6bf1-46b8-8b33-cc8fe8930108",
   "metadata": {},
   "outputs": [],
   "source": [
    "IPI_Cement.to_csv(\"Cleaned data/IPI_Cement.csv\")"
   ]
  },
  {
   "cell_type": "code",
   "execution_count": 88,
   "id": "380b1b99-a935-44c3-8119-0aed77e69c0d",
   "metadata": {},
   "outputs": [],
   "source": [
    "home_ow_rate = pd.read_csv(\"RHORUSQ156N.csv\")"
   ]
  },
  {
   "cell_type": "code",
   "execution_count": 89,
   "id": "21180e46-a3ee-4aaa-a93d-3ef564017698",
   "metadata": {},
   "outputs": [
    {
     "data": {
      "text/html": [
       "<div>\n",
       "<style scoped>\n",
       "    .dataframe tbody tr th:only-of-type {\n",
       "        vertical-align: middle;\n",
       "    }\n",
       "\n",
       "    .dataframe tbody tr th {\n",
       "        vertical-align: top;\n",
       "    }\n",
       "\n",
       "    .dataframe thead th {\n",
       "        text-align: right;\n",
       "    }\n",
       "</style>\n",
       "<table border=\"1\" class=\"dataframe\">\n",
       "  <thead>\n",
       "    <tr style=\"text-align: right;\">\n",
       "      <th></th>\n",
       "      <th>DATE</th>\n",
       "      <th>RHORUSQ156N</th>\n",
       "    </tr>\n",
       "  </thead>\n",
       "  <tbody>\n",
       "    <tr>\n",
       "      <th>0</th>\n",
       "      <td>2003-07-01</td>\n",
       "      <td>68.4</td>\n",
       "    </tr>\n",
       "    <tr>\n",
       "      <th>1</th>\n",
       "      <td>2003-10-01</td>\n",
       "      <td>68.6</td>\n",
       "    </tr>\n",
       "    <tr>\n",
       "      <th>2</th>\n",
       "      <td>2004-01-01</td>\n",
       "      <td>68.6</td>\n",
       "    </tr>\n",
       "    <tr>\n",
       "      <th>3</th>\n",
       "      <td>2004-04-01</td>\n",
       "      <td>69.2</td>\n",
       "    </tr>\n",
       "    <tr>\n",
       "      <th>4</th>\n",
       "      <td>2004-07-01</td>\n",
       "      <td>69.0</td>\n",
       "    </tr>\n",
       "  </tbody>\n",
       "</table>\n",
       "</div>"
      ],
      "text/plain": [
       "         DATE  RHORUSQ156N\n",
       "0  2003-07-01         68.4\n",
       "1  2003-10-01         68.6\n",
       "2  2004-01-01         68.6\n",
       "3  2004-04-01         69.2\n",
       "4  2004-07-01         69.0"
      ]
     },
     "execution_count": 89,
     "metadata": {},
     "output_type": "execute_result"
    }
   ],
   "source": [
    "home_ow_rate.head()"
   ]
  },
  {
   "cell_type": "code",
   "execution_count": 90,
   "id": "d37a300b-7f8e-4e80-8544-6febcfa5f133",
   "metadata": {},
   "outputs": [],
   "source": [
    "home_ow_rate.set_index('DATE', inplace =True)\n",
    "home_ow_rate.index = pd.to_datetime(home_ow_rate.index)\n",
    "home_ow_rate.rename(columns= {'RHORUSQ156N': 'home_ow_rate'}, inplace =True)\n",
    "\n",
    "home_ow_rate = home_ow_rate.resample('M').ffill()\n",
    "\n",
    "home_ow_rate.index = home_ow_rate.index.map(lambda x: x.replace(day=1))\n",
    "home_ow_rate = home_ow_rate[\"2003-07-01\":\"2023-07-01\"]"
   ]
  },
  {
   "cell_type": "code",
   "execution_count": 91,
   "id": "89e06002-8c0b-4003-a395-9cda32ca74d3",
   "metadata": {},
   "outputs": [
    {
     "data": {
      "text/plain": [
       "(241, 1)"
      ]
     },
     "execution_count": 91,
     "metadata": {},
     "output_type": "execute_result"
    }
   ],
   "source": [
    "home_ow_rate.shape"
   ]
  },
  {
   "cell_type": "code",
   "execution_count": 92,
   "id": "75ec587c-d2cc-4ba5-8220-30942566a7a0",
   "metadata": {},
   "outputs": [],
   "source": [
    "home_ow_rate.to_csv(\"Cleaned data/home_ow_rate.csv\")"
   ]
  },
  {
   "cell_type": "code",
   "execution_count": 93,
   "id": "50e85337-1bda-4f62-ad22-60da5e077efb",
   "metadata": {},
   "outputs": [],
   "source": [
    "p_saving_rate =pd.read_csv(\"PSAVERT.csv\")"
   ]
  },
  {
   "cell_type": "code",
   "execution_count": 94,
   "id": "2de20841-e02c-4826-be4e-2aa825cc5d2f",
   "metadata": {},
   "outputs": [
    {
     "data": {
      "text/html": [
       "<div>\n",
       "<style scoped>\n",
       "    .dataframe tbody tr th:only-of-type {\n",
       "        vertical-align: middle;\n",
       "    }\n",
       "\n",
       "    .dataframe tbody tr th {\n",
       "        vertical-align: top;\n",
       "    }\n",
       "\n",
       "    .dataframe thead th {\n",
       "        text-align: right;\n",
       "    }\n",
       "</style>\n",
       "<table border=\"1\" class=\"dataframe\">\n",
       "  <thead>\n",
       "    <tr style=\"text-align: right;\">\n",
       "      <th></th>\n",
       "      <th>DATE</th>\n",
       "      <th>PSAVERT</th>\n",
       "    </tr>\n",
       "  </thead>\n",
       "  <tbody>\n",
       "    <tr>\n",
       "      <th>0</th>\n",
       "      <td>2003-08-01</td>\n",
       "      <td>5.7</td>\n",
       "    </tr>\n",
       "    <tr>\n",
       "      <th>1</th>\n",
       "      <td>2003-09-01</td>\n",
       "      <td>4.9</td>\n",
       "    </tr>\n",
       "    <tr>\n",
       "      <th>2</th>\n",
       "      <td>2003-10-01</td>\n",
       "      <td>5.0</td>\n",
       "    </tr>\n",
       "    <tr>\n",
       "      <th>3</th>\n",
       "      <td>2003-11-01</td>\n",
       "      <td>5.0</td>\n",
       "    </tr>\n",
       "    <tr>\n",
       "      <th>4</th>\n",
       "      <td>2003-12-01</td>\n",
       "      <td>5.0</td>\n",
       "    </tr>\n",
       "  </tbody>\n",
       "</table>\n",
       "</div>"
      ],
      "text/plain": [
       "         DATE  PSAVERT\n",
       "0  2003-08-01      5.7\n",
       "1  2003-09-01      4.9\n",
       "2  2003-10-01      5.0\n",
       "3  2003-11-01      5.0\n",
       "4  2003-12-01      5.0"
      ]
     },
     "execution_count": 94,
     "metadata": {},
     "output_type": "execute_result"
    }
   ],
   "source": [
    "p_saving_rate.head()"
   ]
  },
  {
   "cell_type": "code",
   "execution_count": 95,
   "id": "9feeca1a-52d1-499b-a888-3710176a978c",
   "metadata": {},
   "outputs": [],
   "source": [
    "p_saving_rate.set_index('DATE', inplace =True)\n",
    "p_saving_rate.rename(columns= {'PSAVERT': 'p_saving_rate'}, inplace =True)\n",
    "p_saving_rate.index = pd.to_datetime(p_saving_rate.index)\n",
    "p_saving_rate = p_saving_rate[\"2003-08-01\":\"2023-08-01\"]"
   ]
  },
  {
   "cell_type": "code",
   "execution_count": 96,
   "id": "86b78f7d-9bb2-4df2-a7db-e1e12f5cee5b",
   "metadata": {},
   "outputs": [
    {
     "data": {
      "text/plain": [
       "(241, 1)"
      ]
     },
     "execution_count": 96,
     "metadata": {},
     "output_type": "execute_result"
    }
   ],
   "source": [
    "p_saving_rate.shape"
   ]
  },
  {
   "cell_type": "code",
   "execution_count": 97,
   "id": "31e6f5ee-2d73-4725-842f-2564c949ad32",
   "metadata": {},
   "outputs": [],
   "source": [
    "p_saving_rate.to_csv(\"Cleaned data/p_saving_rate.csv\")"
   ]
  },
  {
   "cell_type": "code",
   "execution_count": 98,
   "id": "cfb54608-b584-43e8-b90d-b357e21d9433",
   "metadata": {},
   "outputs": [],
   "source": [
    "new_private_house = pd.read_csv(\"COMPUTSA.csv\")"
   ]
  },
  {
   "cell_type": "code",
   "execution_count": 99,
   "id": "b28912f5-df94-41a8-a412-2019c57993ef",
   "metadata": {},
   "outputs": [
    {
     "data": {
      "text/html": [
       "<div>\n",
       "<style scoped>\n",
       "    .dataframe tbody tr th:only-of-type {\n",
       "        vertical-align: middle;\n",
       "    }\n",
       "\n",
       "    .dataframe tbody tr th {\n",
       "        vertical-align: top;\n",
       "    }\n",
       "\n",
       "    .dataframe thead th {\n",
       "        text-align: right;\n",
       "    }\n",
       "</style>\n",
       "<table border=\"1\" class=\"dataframe\">\n",
       "  <thead>\n",
       "    <tr style=\"text-align: right;\">\n",
       "      <th></th>\n",
       "      <th>DATE</th>\n",
       "      <th>COMPUTSA</th>\n",
       "    </tr>\n",
       "  </thead>\n",
       "  <tbody>\n",
       "    <tr>\n",
       "      <th>0</th>\n",
       "      <td>2003-08-01</td>\n",
       "      <td>1570.0</td>\n",
       "    </tr>\n",
       "    <tr>\n",
       "      <th>1</th>\n",
       "      <td>2003-09-01</td>\n",
       "      <td>1719.0</td>\n",
       "    </tr>\n",
       "    <tr>\n",
       "      <th>2</th>\n",
       "      <td>2003-10-01</td>\n",
       "      <td>1728.0</td>\n",
       "    </tr>\n",
       "    <tr>\n",
       "      <th>3</th>\n",
       "      <td>2003-11-01</td>\n",
       "      <td>1692.0</td>\n",
       "    </tr>\n",
       "    <tr>\n",
       "      <th>4</th>\n",
       "      <td>2003-12-01</td>\n",
       "      <td>1716.0</td>\n",
       "    </tr>\n",
       "  </tbody>\n",
       "</table>\n",
       "</div>"
      ],
      "text/plain": [
       "         DATE  COMPUTSA\n",
       "0  2003-08-01    1570.0\n",
       "1  2003-09-01    1719.0\n",
       "2  2003-10-01    1728.0\n",
       "3  2003-11-01    1692.0\n",
       "4  2003-12-01    1716.0"
      ]
     },
     "execution_count": 99,
     "metadata": {},
     "output_type": "execute_result"
    }
   ],
   "source": [
    "new_private_house.head()"
   ]
  },
  {
   "cell_type": "code",
   "execution_count": 100,
   "id": "c35f133f-79a4-4608-bf2b-10e43c416ab0",
   "metadata": {},
   "outputs": [],
   "source": [
    "new_private_house.set_index('DATE', inplace =True)\n",
    "new_private_house.rename(columns= {'COMPUTSA': 'new_private_house'}, inplace =True)\n",
    "new_private_house.index = pd.to_datetime(new_private_house.index)\n",
    "new_private_house = new_private_house[\"2003-08-01\":\"2023-08-01\"]"
   ]
  },
  {
   "cell_type": "code",
   "execution_count": 101,
   "id": "bf826802-fbf0-4bb6-8e9f-a378238969e5",
   "metadata": {},
   "outputs": [
    {
     "data": {
      "text/plain": [
       "(241, 1)"
      ]
     },
     "execution_count": 101,
     "metadata": {},
     "output_type": "execute_result"
    }
   ],
   "source": [
    "new_private_house.shape"
   ]
  },
  {
   "cell_type": "code",
   "execution_count": 102,
   "id": "0a91403f-dcaf-489d-997c-2b2156c28b57",
   "metadata": {},
   "outputs": [],
   "source": [
    "new_private_house.to_csv(\"Cleaned data/new_private_house.csv\")"
   ]
  },
  {
   "cell_type": "code",
   "execution_count": 103,
   "id": "bd1e153b-b179-47e4-8e9e-d06a388805e6",
   "metadata": {},
   "outputs": [],
   "source": [
    "new_private_hw_under = pd.read_csv(\"UNDCONTSA.csv\")"
   ]
  },
  {
   "cell_type": "code",
   "execution_count": 104,
   "id": "e4c996e7-fae8-418d-a2d6-5d77202d8b83",
   "metadata": {},
   "outputs": [
    {
     "data": {
      "text/html": [
       "<div>\n",
       "<style scoped>\n",
       "    .dataframe tbody tr th:only-of-type {\n",
       "        vertical-align: middle;\n",
       "    }\n",
       "\n",
       "    .dataframe tbody tr th {\n",
       "        vertical-align: top;\n",
       "    }\n",
       "\n",
       "    .dataframe thead th {\n",
       "        text-align: right;\n",
       "    }\n",
       "</style>\n",
       "<table border=\"1\" class=\"dataframe\">\n",
       "  <thead>\n",
       "    <tr style=\"text-align: right;\">\n",
       "      <th></th>\n",
       "      <th>DATE</th>\n",
       "      <th>UNDCONTSA</th>\n",
       "    </tr>\n",
       "  </thead>\n",
       "  <tbody>\n",
       "    <tr>\n",
       "      <th>0</th>\n",
       "      <td>2003-08-01</td>\n",
       "      <td>1102.0</td>\n",
       "    </tr>\n",
       "    <tr>\n",
       "      <th>1</th>\n",
       "      <td>2003-09-01</td>\n",
       "      <td>1121.0</td>\n",
       "    </tr>\n",
       "    <tr>\n",
       "      <th>2</th>\n",
       "      <td>2003-10-01</td>\n",
       "      <td>1135.0</td>\n",
       "    </tr>\n",
       "    <tr>\n",
       "      <th>3</th>\n",
       "      <td>2003-11-01</td>\n",
       "      <td>1158.0</td>\n",
       "    </tr>\n",
       "    <tr>\n",
       "      <th>4</th>\n",
       "      <td>2003-12-01</td>\n",
       "      <td>1183.0</td>\n",
       "    </tr>\n",
       "  </tbody>\n",
       "</table>\n",
       "</div>"
      ],
      "text/plain": [
       "         DATE  UNDCONTSA\n",
       "0  2003-08-01     1102.0\n",
       "1  2003-09-01     1121.0\n",
       "2  2003-10-01     1135.0\n",
       "3  2003-11-01     1158.0\n",
       "4  2003-12-01     1183.0"
      ]
     },
     "execution_count": 104,
     "metadata": {},
     "output_type": "execute_result"
    }
   ],
   "source": [
    "new_private_hw_under.head()"
   ]
  },
  {
   "cell_type": "code",
   "execution_count": 105,
   "id": "3a8cbd3f-fb38-4e3f-b060-32ca1a617c4f",
   "metadata": {},
   "outputs": [],
   "source": [
    "new_private_hw_under.set_index('DATE', inplace =True)\n",
    "new_private_hw_under.rename(columns= {'UNDCONTSA': 'new_private_hw_under'}, inplace =True)\n",
    "new_private_hw_under.index = pd.to_datetime(new_private_hw_under.index)\n",
    "new_private_hw_under = new_private_hw_under[\"2003-08-01\":\"2023-08-01\"]"
   ]
  },
  {
   "cell_type": "code",
   "execution_count": 106,
   "id": "1fd244f0-2738-4734-b15a-6f67ae16f201",
   "metadata": {},
   "outputs": [
    {
     "data": {
      "text/plain": [
       "(241, 1)"
      ]
     },
     "execution_count": 106,
     "metadata": {},
     "output_type": "execute_result"
    }
   ],
   "source": [
    "new_private_hw_under.shape"
   ]
  },
  {
   "cell_type": "code",
   "execution_count": 107,
   "id": "5d0278e7-d434-426d-8239-14c439c94ee4",
   "metadata": {},
   "outputs": [],
   "source": [
    "new_private_hw_under.to_csv(\"Cleaned data/new_private_hw_under.csv\")"
   ]
  }
 ],
 "metadata": {
  "kernelspec": {
   "display_name": "Python 3 (ipykernel)",
   "language": "python",
   "name": "python3"
  },
  "language_info": {
   "codemirror_mode": {
    "name": "ipython",
    "version": 3
   },
   "file_extension": ".py",
   "mimetype": "text/x-python",
   "name": "python",
   "nbconvert_exporter": "python",
   "pygments_lexer": "ipython3",
   "version": "3.10.8"
  }
 },
 "nbformat": 4,
 "nbformat_minor": 5
}
