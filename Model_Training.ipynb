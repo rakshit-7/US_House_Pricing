{
 "cells": [
  {
   "cell_type": "code",
   "execution_count": 1,
   "id": "eb2a13ff-96b8-4966-95b8-4a6eb49458eb",
   "metadata": {},
   "outputs": [],
   "source": [
    "import pandas as pd\n",
    "import numpy as np\n",
    "import warnings\n",
    "from sklearn.model_selection import train_test_split, cross_val_score\n",
    "from sklearn.linear_model import LassoCV\n",
    "from sklearn.metrics import mean_squared_error, r2_score"
   ]
  },
  {
   "cell_type": "code",
   "execution_count": 2,
   "id": "2dd69b0f-755f-474e-9882-c2289116b261",
   "metadata": {},
   "outputs": [],
   "source": [
    "df = pd.read_csv(\"df_final.csv\")"
   ]
  },
  {
   "cell_type": "code",
   "execution_count": 3,
   "id": "d29a97a3-b9a0-4890-abff-cc573de3481d",
   "metadata": {},
   "outputs": [
    {
     "data": {
      "text/html": [
       "<div>\n",
       "<style scoped>\n",
       "    .dataframe tbody tr th:only-of-type {\n",
       "        vertical-align: middle;\n",
       "    }\n",
       "\n",
       "    .dataframe tbody tr th {\n",
       "        vertical-align: top;\n",
       "    }\n",
       "\n",
       "    .dataframe thead th {\n",
       "        text-align: right;\n",
       "    }\n",
       "</style>\n",
       "<table border=\"1\" class=\"dataframe\">\n",
       "  <thead>\n",
       "    <tr style=\"text-align: right;\">\n",
       "      <th></th>\n",
       "      <th>DATE</th>\n",
       "      <th>all_Const_Emp</th>\n",
       "      <th>emratio</th>\n",
       "      <th>GDP</th>\n",
       "      <th>home_ow_rate</th>\n",
       "      <th>house_st</th>\n",
       "      <th>income</th>\n",
       "      <th>IPI_Cement</th>\n",
       "      <th>labor_percent</th>\n",
       "      <th>monthly_supply</th>\n",
       "      <th>...</th>\n",
       "      <th>new_private_house</th>\n",
       "      <th>new_private_hw_under</th>\n",
       "      <th>permit</th>\n",
       "      <th>POP</th>\n",
       "      <th>PPI_Cement</th>\n",
       "      <th>PPI_Concrete</th>\n",
       "      <th>p_saving_rate</th>\n",
       "      <th>target</th>\n",
       "      <th>total_emp_cons</th>\n",
       "      <th>unemployed_rate</th>\n",
       "    </tr>\n",
       "  </thead>\n",
       "  <tbody>\n",
       "    <tr>\n",
       "      <th>0</th>\n",
       "      <td>2003-07-01</td>\n",
       "      <td>0.0</td>\n",
       "      <td>0.0</td>\n",
       "      <td>11566.669</td>\n",
       "      <td>68.4</td>\n",
       "      <td>0.0</td>\n",
       "      <td>0.0</td>\n",
       "      <td>0.000</td>\n",
       "      <td>0.0</td>\n",
       "      <td>0.0</td>\n",
       "      <td>...</td>\n",
       "      <td>-0.00000</td>\n",
       "      <td>0.0</td>\n",
       "      <td>0.0</td>\n",
       "      <td>0.0</td>\n",
       "      <td>0.0</td>\n",
       "      <td>0.000000</td>\n",
       "      <td>0.0</td>\n",
       "      <td>0.000</td>\n",
       "      <td>0.0</td>\n",
       "      <td>0.0</td>\n",
       "    </tr>\n",
       "    <tr>\n",
       "      <th>1</th>\n",
       "      <td>2003-08-01</td>\n",
       "      <td>840.2</td>\n",
       "      <td>62.1</td>\n",
       "      <td>11566.669</td>\n",
       "      <td>68.4</td>\n",
       "      <td>1833.0</td>\n",
       "      <td>9538.8</td>\n",
       "      <td>152.498</td>\n",
       "      <td>66.1</td>\n",
       "      <td>0.0</td>\n",
       "      <td>...</td>\n",
       "      <td>1.39134</td>\n",
       "      <td>0.0</td>\n",
       "      <td>1966.0</td>\n",
       "      <td>291072.0</td>\n",
       "      <td>0.0</td>\n",
       "      <td>5.046002</td>\n",
       "      <td>0.0</td>\n",
       "      <td>135.966</td>\n",
       "      <td>6760.0</td>\n",
       "      <td>0.0</td>\n",
       "    </tr>\n",
       "    <tr>\n",
       "      <th>2</th>\n",
       "      <td>2003-08-08</td>\n",
       "      <td>0.0</td>\n",
       "      <td>0.0</td>\n",
       "      <td>0.000</td>\n",
       "      <td>0.0</td>\n",
       "      <td>0.0</td>\n",
       "      <td>0.0</td>\n",
       "      <td>0.000</td>\n",
       "      <td>0.0</td>\n",
       "      <td>0.0</td>\n",
       "      <td>...</td>\n",
       "      <td>-0.00000</td>\n",
       "      <td>0.0</td>\n",
       "      <td>0.0</td>\n",
       "      <td>0.0</td>\n",
       "      <td>0.0</td>\n",
       "      <td>0.000000</td>\n",
       "      <td>0.0</td>\n",
       "      <td>0.000</td>\n",
       "      <td>0.0</td>\n",
       "      <td>0.0</td>\n",
       "    </tr>\n",
       "    <tr>\n",
       "      <th>3</th>\n",
       "      <td>2003-08-15</td>\n",
       "      <td>0.0</td>\n",
       "      <td>0.0</td>\n",
       "      <td>0.000</td>\n",
       "      <td>0.0</td>\n",
       "      <td>0.0</td>\n",
       "      <td>0.0</td>\n",
       "      <td>0.000</td>\n",
       "      <td>0.0</td>\n",
       "      <td>0.0</td>\n",
       "      <td>...</td>\n",
       "      <td>-0.00000</td>\n",
       "      <td>0.0</td>\n",
       "      <td>0.0</td>\n",
       "      <td>0.0</td>\n",
       "      <td>0.0</td>\n",
       "      <td>0.000000</td>\n",
       "      <td>0.0</td>\n",
       "      <td>0.000</td>\n",
       "      <td>0.0</td>\n",
       "      <td>0.0</td>\n",
       "    </tr>\n",
       "    <tr>\n",
       "      <th>4</th>\n",
       "      <td>2003-08-22</td>\n",
       "      <td>0.0</td>\n",
       "      <td>0.0</td>\n",
       "      <td>0.000</td>\n",
       "      <td>0.0</td>\n",
       "      <td>0.0</td>\n",
       "      <td>0.0</td>\n",
       "      <td>0.000</td>\n",
       "      <td>0.0</td>\n",
       "      <td>0.0</td>\n",
       "      <td>...</td>\n",
       "      <td>-0.00000</td>\n",
       "      <td>0.0</td>\n",
       "      <td>0.0</td>\n",
       "      <td>0.0</td>\n",
       "      <td>0.0</td>\n",
       "      <td>0.000000</td>\n",
       "      <td>0.0</td>\n",
       "      <td>0.000</td>\n",
       "      <td>0.0</td>\n",
       "      <td>0.0</td>\n",
       "    </tr>\n",
       "  </tbody>\n",
       "</table>\n",
       "<p>5 rows × 22 columns</p>\n",
       "</div>"
      ],
      "text/plain": [
       "         DATE  all_Const_Emp  emratio        GDP  home_ow_rate  house_st  \\\n",
       "0  2003-07-01            0.0      0.0  11566.669          68.4       0.0   \n",
       "1  2003-08-01          840.2     62.1  11566.669          68.4    1833.0   \n",
       "2  2003-08-08            0.0      0.0      0.000           0.0       0.0   \n",
       "3  2003-08-15            0.0      0.0      0.000           0.0       0.0   \n",
       "4  2003-08-22            0.0      0.0      0.000           0.0       0.0   \n",
       "\n",
       "   income  IPI_Cement  labor_percent  monthly_supply  ...  new_private_house  \\\n",
       "0     0.0       0.000            0.0             0.0  ...           -0.00000   \n",
       "1  9538.8     152.498           66.1             0.0  ...            1.39134   \n",
       "2     0.0       0.000            0.0             0.0  ...           -0.00000   \n",
       "3     0.0       0.000            0.0             0.0  ...           -0.00000   \n",
       "4     0.0       0.000            0.0             0.0  ...           -0.00000   \n",
       "\n",
       "   new_private_hw_under  permit       POP  PPI_Cement  PPI_Concrete  \\\n",
       "0                   0.0     0.0       0.0         0.0      0.000000   \n",
       "1                   0.0  1966.0  291072.0         0.0      5.046002   \n",
       "2                   0.0     0.0       0.0         0.0      0.000000   \n",
       "3                   0.0     0.0       0.0         0.0      0.000000   \n",
       "4                   0.0     0.0       0.0         0.0      0.000000   \n",
       "\n",
       "   p_saving_rate   target  total_emp_cons  unemployed_rate  \n",
       "0            0.0    0.000             0.0              0.0  \n",
       "1            0.0  135.966          6760.0              0.0  \n",
       "2            0.0    0.000             0.0              0.0  \n",
       "3            0.0    0.000             0.0              0.0  \n",
       "4            0.0    0.000             0.0              0.0  \n",
       "\n",
       "[5 rows x 22 columns]"
      ]
     },
     "execution_count": 3,
     "metadata": {},
     "output_type": "execute_result"
    }
   ],
   "source": [
    "df.head()"
   ]
  },
  {
   "cell_type": "code",
   "execution_count": 4,
   "id": "1f96f457-46ce-49cd-8716-95736ad498b0",
   "metadata": {},
   "outputs": [],
   "source": [
    "# Suppress ConvergenceWarning\n",
    "warnings.filterwarnings(\"ignore\", category=UserWarning, module=\"sklearn\")"
   ]
  },
  {
   "cell_type": "code",
   "execution_count": 5,
   "id": "461f08b2-a10f-45d5-9020-7f47d0eaf879",
   "metadata": {},
   "outputs": [],
   "source": [
    "X = df.drop(columns=['DATE', 'target'], axis=1)\n",
    "y = df.target"
   ]
  },
  {
   "cell_type": "code",
   "execution_count": 6,
   "id": "08d63aa8-7902-4ebf-a776-b29097b77f7f",
   "metadata": {},
   "outputs": [],
   "source": [
    "X_train, X_test, y_train, y_test = train_test_split(X, y, test_size=0.2, random_state=42)"
   ]
  },
  {
   "cell_type": "code",
   "execution_count": 7,
   "id": "38280e66-3274-4b2e-9699-da77d536f510",
   "metadata": {},
   "outputs": [],
   "source": [
    "from sklearn.preprocessing import StandardScaler\n",
    "\n",
    "scaler = StandardScaler()\n",
    "X_train = scaler.fit_transform(X_train)\n",
    "X_test = scaler.transform(X_test)"
   ]
  },
  {
   "cell_type": "code",
   "execution_count": 8,
   "id": "a784a9ee-f406-4a2e-a8e7-3cf39b795c0c",
   "metadata": {},
   "outputs": [],
   "source": [
    "lasso_cv_model = LassoCV(alphas=np.logspace(-4, 4, 100),cv=5, max_iter=5000)\n",
    "\n",
    "lasso_cv_model.fit(X_train, y_train)\n",
    "\n",
    "lasso_cv_predictions = lasso_cv_model.predict(X_test)"
   ]
  },
  {
   "cell_type": "code",
   "execution_count": 9,
   "id": "aeeec04c-8158-4f51-bc6c-3465ba98da5f",
   "metadata": {},
   "outputs": [
    {
     "name": "stdout",
     "output_type": "stream",
     "text": [
      "Optimal Alpha: 0.0087\n",
      "Mean Squared Error (MSE): 10.95\n",
      "RMSE: 3.309357\n",
      "R-squared (R2): 1.00\n"
     ]
    }
   ],
   "source": [
    "optimal_alpha = lasso_cv_model.alpha_\n",
    "\n",
    "mse = mean_squared_error(y_test, lasso_cv_predictions)\n",
    "\n",
    "rmse = np.sqrt(mse)\n",
    "\n",
    "r2 = r2_score(y_test, lasso_cv_predictions)\n",
    "\n",
    "print(f\"Optimal Alpha: {optimal_alpha:.4f}\")\n",
    "print(f\"Mean Squared Error (MSE): {mse:.2f}\")\n",
    "print(f\"RMSE: {rmse:2f}\")\n",
    "print(f\"R-squared (R2): {r2:.2f}\")"
   ]
  },
  {
   "cell_type": "code",
   "execution_count": 10,
   "id": "a7e0bfe8-3e0a-4441-98ba-ac4466f555ee",
   "metadata": {},
   "outputs": [
    {
     "name": "stdout",
     "output_type": "stream",
     "text": [
      "Cross-Validation R-squared Scores:\n",
      "[0.99897933 0.99683955 0.99831674 0.99895948 0.99514924]\n"
     ]
    }
   ],
   "source": [
    "cross_val_scores = cross_val_score(lasso_cv_model, X_train, y_train, cv=5, scoring='r2')\n",
    "print(\"Cross-Validation R-squared Scores:\")\n",
    "print(cross_val_scores)"
   ]
  },
  {
   "cell_type": "code",
   "execution_count": 11,
   "id": "b20f4736-b5a5-474b-b83c-a1c856820281",
   "metadata": {},
   "outputs": [
    {
     "name": "stdout",
     "output_type": "stream",
     "text": [
      "Mean R-squared: 0.9976\n",
      "Standard Deviation of R-squared: 0.0015\n"
     ]
    }
   ],
   "source": [
    "mean_r2 = cross_val_scores.mean()\n",
    "std_r2 = cross_val_scores.std()\n",
    "\n",
    "print(f\"Mean R-squared: {mean_r2:.4f}\")\n",
    "print(f\"Standard Deviation of R-squared: {std_r2:.4f}\")"
   ]
  },
  {
   "cell_type": "code",
   "execution_count": 12,
   "id": "3c61325a-072f-4608-88ba-62614bd3437d",
   "metadata": {},
   "outputs": [
    {
     "name": "stdout",
     "output_type": "stream",
     "text": [
      "0.3309356735070352\n",
      "3.5804912210694333\n"
     ]
    }
   ],
   "source": [
    "print(0.1 * rmse)\n",
    "print(0.1 * df['target'].mean()) # rmse should be less than the 10% of mean of target variable"
   ]
  },
  {
   "cell_type": "code",
   "execution_count": 13,
   "id": "e5683dc8-4d1e-4b4d-b000-3e2b3fed5ec4",
   "metadata": {},
   "outputs": [],
   "source": [
    "# coefficients and corresponding feature names\n",
    "lasso_coefficients = lasso_cv_model.coef_\n",
    "feature_names = X.columns\n",
    "\n",
    "coefficients_df = pd.DataFrame({'Feature': feature_names, 'Coefficient': lasso_coefficients})\n",
    "\n",
    "non_zero_coefficients_df = coefficients_df[coefficients_df['Coefficient'] != 0]\n",
    "zero_coefficients_df = coefficients_df[coefficients_df['Coefficient'] == 0]"
   ]
  },
  {
   "cell_type": "code",
   "execution_count": 14,
   "id": "da5018c9-7c51-420c-aaed-886fe3e1a68f",
   "metadata": {},
   "outputs": [
    {
     "data": {
      "text/html": [
       "<div>\n",
       "<style scoped>\n",
       "    .dataframe tbody tr th:only-of-type {\n",
       "        vertical-align: middle;\n",
       "    }\n",
       "\n",
       "    .dataframe tbody tr th {\n",
       "        vertical-align: top;\n",
       "    }\n",
       "\n",
       "    .dataframe thead th {\n",
       "        text-align: right;\n",
       "    }\n",
       "</style>\n",
       "<table border=\"1\" class=\"dataframe\">\n",
       "  <thead>\n",
       "    <tr style=\"text-align: right;\">\n",
       "      <th></th>\n",
       "      <th>Feature</th>\n",
       "      <th>Coefficient</th>\n",
       "    </tr>\n",
       "  </thead>\n",
       "  <tbody>\n",
       "    <tr>\n",
       "      <th>0</th>\n",
       "      <td>all_Const_Emp</td>\n",
       "      <td>100.313035</td>\n",
       "    </tr>\n",
       "    <tr>\n",
       "      <th>2</th>\n",
       "      <td>GDP</td>\n",
       "      <td>-4.686693</td>\n",
       "    </tr>\n",
       "    <tr>\n",
       "      <th>3</th>\n",
       "      <td>home_ow_rate</td>\n",
       "      <td>-14.685082</td>\n",
       "    </tr>\n",
       "    <tr>\n",
       "      <th>5</th>\n",
       "      <td>income</td>\n",
       "      <td>30.703586</td>\n",
       "    </tr>\n",
       "    <tr>\n",
       "      <th>6</th>\n",
       "      <td>IPI_Cement</td>\n",
       "      <td>-24.337988</td>\n",
       "    </tr>\n",
       "    <tr>\n",
       "      <th>7</th>\n",
       "      <td>labor_percent</td>\n",
       "      <td>13.979207</td>\n",
       "    </tr>\n",
       "    <tr>\n",
       "      <th>9</th>\n",
       "      <td>mortgage_rate</td>\n",
       "      <td>-0.117384</td>\n",
       "    </tr>\n",
       "    <tr>\n",
       "      <th>10</th>\n",
       "      <td>MSPUS</td>\n",
       "      <td>25.614872</td>\n",
       "    </tr>\n",
       "    <tr>\n",
       "      <th>13</th>\n",
       "      <td>permit</td>\n",
       "      <td>-2.573047</td>\n",
       "    </tr>\n",
       "    <tr>\n",
       "      <th>14</th>\n",
       "      <td>POP</td>\n",
       "      <td>-1.265576</td>\n",
       "    </tr>\n",
       "    <tr>\n",
       "      <th>15</th>\n",
       "      <td>PPI_Cement</td>\n",
       "      <td>3.990990</td>\n",
       "    </tr>\n",
       "    <tr>\n",
       "      <th>18</th>\n",
       "      <td>total_emp_cons</td>\n",
       "      <td>-51.619377</td>\n",
       "    </tr>\n",
       "  </tbody>\n",
       "</table>\n",
       "</div>"
      ],
      "text/plain": [
       "           Feature  Coefficient\n",
       "0    all_Const_Emp   100.313035\n",
       "2              GDP    -4.686693\n",
       "3     home_ow_rate   -14.685082\n",
       "5           income    30.703586\n",
       "6       IPI_Cement   -24.337988\n",
       "7    labor_percent    13.979207\n",
       "9    mortgage_rate    -0.117384\n",
       "10           MSPUS    25.614872\n",
       "13          permit    -2.573047\n",
       "14             POP    -1.265576\n",
       "15      PPI_Cement     3.990990\n",
       "18  total_emp_cons   -51.619377"
      ]
     },
     "execution_count": 14,
     "metadata": {},
     "output_type": "execute_result"
    }
   ],
   "source": [
    "non_zero_coefficients_df"
   ]
  },
  {
   "cell_type": "code",
   "execution_count": 15,
   "id": "034fe1f4-e51c-4e41-9d70-bd48195c05e0",
   "metadata": {},
   "outputs": [
    {
     "data": {
      "text/html": [
       "<div>\n",
       "<style scoped>\n",
       "    .dataframe tbody tr th:only-of-type {\n",
       "        vertical-align: middle;\n",
       "    }\n",
       "\n",
       "    .dataframe tbody tr th {\n",
       "        vertical-align: top;\n",
       "    }\n",
       "\n",
       "    .dataframe thead th {\n",
       "        text-align: right;\n",
       "    }\n",
       "</style>\n",
       "<table border=\"1\" class=\"dataframe\">\n",
       "  <thead>\n",
       "    <tr style=\"text-align: right;\">\n",
       "      <th></th>\n",
       "      <th>Feature</th>\n",
       "      <th>Coefficient</th>\n",
       "    </tr>\n",
       "  </thead>\n",
       "  <tbody>\n",
       "    <tr>\n",
       "      <th>1</th>\n",
       "      <td>emratio</td>\n",
       "      <td>-0.0</td>\n",
       "    </tr>\n",
       "    <tr>\n",
       "      <th>4</th>\n",
       "      <td>house_st</td>\n",
       "      <td>-0.0</td>\n",
       "    </tr>\n",
       "    <tr>\n",
       "      <th>8</th>\n",
       "      <td>monthly_supply</td>\n",
       "      <td>0.0</td>\n",
       "    </tr>\n",
       "    <tr>\n",
       "      <th>11</th>\n",
       "      <td>new_private_house</td>\n",
       "      <td>0.0</td>\n",
       "    </tr>\n",
       "    <tr>\n",
       "      <th>12</th>\n",
       "      <td>new_private_hw_under</td>\n",
       "      <td>0.0</td>\n",
       "    </tr>\n",
       "    <tr>\n",
       "      <th>16</th>\n",
       "      <td>PPI_Concrete</td>\n",
       "      <td>0.0</td>\n",
       "    </tr>\n",
       "    <tr>\n",
       "      <th>17</th>\n",
       "      <td>p_saving_rate</td>\n",
       "      <td>0.0</td>\n",
       "    </tr>\n",
       "    <tr>\n",
       "      <th>19</th>\n",
       "      <td>unemployed_rate</td>\n",
       "      <td>0.0</td>\n",
       "    </tr>\n",
       "  </tbody>\n",
       "</table>\n",
       "</div>"
      ],
      "text/plain": [
       "                 Feature  Coefficient\n",
       "1                emratio         -0.0\n",
       "4               house_st         -0.0\n",
       "8         monthly_supply          0.0\n",
       "11     new_private_house          0.0\n",
       "12  new_private_hw_under          0.0\n",
       "16          PPI_Concrete          0.0\n",
       "17         p_saving_rate          0.0\n",
       "19       unemployed_rate          0.0"
      ]
     },
     "execution_count": 15,
     "metadata": {},
     "output_type": "execute_result"
    }
   ],
   "source": [
    "zero_coefficients_df"
   ]
  },
  {
   "cell_type": "code",
   "execution_count": 16,
   "id": "5e589036-56f4-47ce-b9d7-f2958aeef740",
   "metadata": {},
   "outputs": [
    {
     "data": {
      "image/png": "[encoded data removed]",
      "text/plain": [
       "<Figure size 800x600 with 1 Axes>"
      ]
     },
     "metadata": {},
     "output_type": "display_data"
    }
   ],
   "source": [
    "import numpy as np\n",
    "import matplotlib.pyplot as plt\n",
    "\n",
    "plt.figure(figsize=(8, 6))\n",
    "plt.scatter(y_test, lasso_cv_predictions, alpha=0.5)\n",
    "plt.xlabel(\"Observed Values\")\n",
    "plt.ylabel(\"Predicted Values\")\n",
    "plt.title(\"Predicted vs. Observed Values\")\n",
    "plt.grid(True)\n",
    "\n",
    "# Add a diagonal line for reference (perfect predictions)\n",
    "x = np.linspace(min(y_test), max(y_test), 100)\n",
    "plt.plot(x, x, color='red', linestyle='--')\n",
    "\n",
    "plt.show()"
   ]
  }
 ],
 "metadata": {
  "kernelspec": {
   "display_name": "Python 3 (ipykernel)",
   "language": "python",
   "name": "python3"
  },
  "language_info": {
   "codemirror_mode": {
    "name": "ipython",
    "version": 3
   },
   "file_extension": ".py",
   "mimetype": "text/x-python",
   "name": "python",
   "nbconvert_exporter": "python",
   "pygments_lexer": "ipython3",
   "version": "3.10.8"
  }
 },
 "nbformat": 4,
 "nbformat_minor": 5
}
